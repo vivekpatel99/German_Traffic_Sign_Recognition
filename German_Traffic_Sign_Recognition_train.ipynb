{
 "cells": [
  {
   "attachments": {},
   "cell_type": "markdown",
   "metadata": {},
   "source": [
    "# German_Traffic_Sign_Recognition\n",
    "![image.png](https://github.com/vivekpatel99/German_Traffic_Sign_Recognition/blob/main/results/result.png)\n",
    "## About Dataset\n",
    "### Context\n",
    "The [German Traffic Sign Benchmark](https://www.kaggle.com/datasets/meowmeowmeowmeowmeow/gtsrb-german-traffic-sign?datasetId=82373)\n",
    " is a multi-class, single-image classification challenge held at the International Joint Conference on Neural Networks (IJCNN) 2011. We cordially invite researchers from relevant fields to participate: The competition is designed to allow for participation without special domain knowledge. Our benchmark has the following properties:\n",
    "\n",
    "* Single-image, multi-class classification problem\n",
    "* More than 40 classes\n",
    "* More than 50,000 images in total\n",
    "* Large, lifelike database\n",
    "\n",
    "**Acknowledgements** \\\n",
    "INI Benchmark Website\n"
   ]
  },
  {
   "attachments": {},
   "cell_type": "markdown",
   "metadata": {},
   "source": [
    "## Imports"
   ]
  },
  {
   "cell_type": "code",
   "execution_count": 1,
   "metadata": {},
   "outputs": [],
   "source": [
    "import logging\n",
    "import os\n",
    "\n",
    "# ignore all the warning and debug information from tensorflow\n",
    "os.environ['TF_CPP_MIN_LOG_LEVEL'] = '2'\n",
    "logging.getLogger('tensorflow').setLevel(logging.ERROR)\n",
    "\n",
    "from sklearn.metrics import classification_report\n",
    "from sklearn.model_selection import train_test_split\n",
    "from libs.nn.conv.lenet import LeNet\n",
    "import tensorflow as tf\n",
    "import tensorflow.keras as keras\n",
    "from tensorflow.keras.optimizers import SGD\n",
    "from libs.preprocessing import ImageToArrayPreprocessor\n",
    "from libs.preprocessing import SimplePreprocessor\n",
    "from libs.datasets import SimpleDatasetLoader\n",
    "\n",
    "import matplotlib.pyplot as plt\n",
    "from libs.utils.myplot import plot_confusion_matrix\n",
    "import matplotlib.image as img\n",
    "import numpy as np\n",
    "from imutils import paths\n",
    "from pathlib import Path\n",
    "import os"
   ]
  },
  {
   "cell_type": "code",
   "execution_count": 2,
   "metadata": {},
   "outputs": [
    {
     "data": {
      "text/plain": [
       "[PhysicalDevice(name='/physical_device:GPU:0', device_type='GPU')]"
      ]
     },
     "execution_count": 2,
     "metadata": {},
     "output_type": "execute_result"
    }
   ],
   "source": [
    "# Avoid OOM errors by setting GPU Memory Consumption Growth\n",
    "gpus = tf.config.experimental.list_physical_devices('GPU')\n",
    "for gpu in gpus: \n",
    "    tf.config.experimental.set_memory_growth(gpu, True)\n",
    "tf.config.list_physical_devices('GPU')"
   ]
  },
  {
   "attachments": {},
   "cell_type": "markdown",
   "metadata": {},
   "source": [
    "## Prepare Dataset for training"
   ]
  },
  {
   "cell_type": "code",
   "execution_count": 3,
   "metadata": {},
   "outputs": [],
   "source": [
    "# Look into the data directory\n",
    "images_dir = './gtsrb-german-traffic-sign'\n",
    "\n",
    "\n",
    "dataset_dir = f'{images_dir}/Train'\n",
    "dataset_imgs = list(paths.list_images(dataset_dir))"
   ]
  },
  {
   "cell_type": "code",
   "execution_count": 4,
   "metadata": {},
   "outputs": [],
   "source": [
    "BATCH_SIZE = 32\n",
    "IMG_WIDTH = IMG_HEIGHT = 32\n",
    "RANDOM_STATE=42"
   ]
  },
  {
   "cell_type": "code",
   "execution_count": 5,
   "metadata": {},
   "outputs": [],
   "source": [
    "classes = {0: 'Speed limit (20km/h)',\n",
    "           1: 'Speed limit (30km/h)',\n",
    "           2: 'Speed limit (50km/h)',\n",
    "           3: 'Speed limit (60km/h)',\n",
    "           4: 'Speed limit (70km/h)',\n",
    "           5: 'Speed limit (80km/h)',\n",
    "           6: 'End of speed limit (80km/h)',\n",
    "           7: 'Speed limit (100km/h)',\n",
    "           8: 'Speed limit (120km/h)',\n",
    "           9: 'No passing',\n",
    "           10: 'No passing veh over 3.5 tons',\n",
    "           11: 'Right-of-way at intersection',\n",
    "           12: 'Priority road',\n",
    "           13: 'Yield',\n",
    "           14: 'Stop',\n",
    "           15: 'No vehicles',\n",
    "           16: 'Veh > 3.5 tons prohibited',\n",
    "           17: 'No entry',\n",
    "           18: 'General caution',\n",
    "           19: 'Dangerous curve left',\n",
    "           20: 'Dangerous curve right',\n",
    "           21: 'Double curve',\n",
    "           22: 'Bumpy road',\n",
    "           23: 'Slippery road',\n",
    "           24: 'Road narrows on the right',\n",
    "           25: 'Road work',\n",
    "           26: 'Traffic signals',\n",
    "           27: 'Pedestrians',\n",
    "           28: 'Children crossing',\n",
    "           29: 'Bicycles crossing',\n",
    "           30: 'Beware of ice/snow',\n",
    "           31: 'Wild animals crossing',\n",
    "           32: 'End speed + passing limits',\n",
    "           33: 'Turn right ahead',\n",
    "           34: 'Turn left ahead',\n",
    "           35: 'Ahead only',\n",
    "           36: 'Go straight or right',\n",
    "           37: 'Go straight or left',\n",
    "           38: 'Keep right',\n",
    "           39: 'Keep left',\n",
    "           40: 'Roundabout mandatory',\n",
    "           41: 'End of no passing',\n",
    "           42: 'End no passing veh > 3.5 tons'}\n",
    "\n",
    "class_len = len(classes.keys())"
   ]
  },
  {
   "cell_type": "code",
   "execution_count": 6,
   "metadata": {},
   "outputs": [
    {
     "name": "stdout",
     "output_type": "stream",
     "text": [
      "[INFO] processed 500/39209\n",
      "[INFO] processed 1000/39209\n",
      "[INFO] processed 1500/39209\n",
      "[INFO] processed 2000/39209\n",
      "[INFO] processed 2500/39209\n",
      "[INFO] processed 3000/39209\n",
      "[INFO] processed 3500/39209\n",
      "[INFO] processed 4000/39209\n",
      "[INFO] processed 4500/39209\n",
      "[INFO] processed 5000/39209\n",
      "[INFO] processed 5500/39209\n",
      "[INFO] processed 6000/39209\n",
      "[INFO] processed 6500/39209\n",
      "[INFO] processed 7000/39209\n",
      "[INFO] processed 7500/39209\n",
      "[INFO] processed 8000/39209\n",
      "[INFO] processed 8500/39209\n",
      "[INFO] processed 9000/39209\n",
      "[INFO] processed 9500/39209\n",
      "[INFO] processed 10000/39209\n",
      "[INFO] processed 10500/39209\n",
      "[INFO] processed 11000/39209\n",
      "[INFO] processed 11500/39209\n",
      "[INFO] processed 12000/39209\n",
      "[INFO] processed 12500/39209\n",
      "[INFO] processed 13000/39209\n",
      "[INFO] processed 13500/39209\n",
      "[INFO] processed 14000/39209\n",
      "[INFO] processed 14500/39209\n",
      "[INFO] processed 15000/39209\n",
      "[INFO] processed 15500/39209\n",
      "[INFO] processed 16000/39209\n",
      "[INFO] processed 16500/39209\n",
      "[INFO] processed 17000/39209\n",
      "[INFO] processed 17500/39209\n",
      "[INFO] processed 18000/39209\n",
      "[INFO] processed 18500/39209\n",
      "[INFO] processed 19000/39209\n",
      "[INFO] processed 19500/39209\n",
      "[INFO] processed 20000/39209\n",
      "[INFO] processed 20500/39209\n",
      "[INFO] processed 21000/39209\n",
      "[INFO] processed 21500/39209\n",
      "[INFO] processed 22000/39209\n",
      "[INFO] processed 22500/39209\n",
      "[INFO] processed 23000/39209\n",
      "[INFO] processed 23500/39209\n",
      "[INFO] processed 24000/39209\n",
      "[INFO] processed 24500/39209\n",
      "[INFO] processed 25000/39209\n",
      "[INFO] processed 25500/39209\n",
      "[INFO] processed 26000/39209\n",
      "[INFO] processed 26500/39209\n",
      "[INFO] processed 27000/39209\n",
      "[INFO] processed 27500/39209\n",
      "[INFO] processed 28000/39209\n",
      "[INFO] processed 28500/39209\n",
      "[INFO] processed 29000/39209\n",
      "[INFO] processed 29500/39209\n",
      "[INFO] processed 30000/39209\n",
      "[INFO] processed 30500/39209\n",
      "[INFO] processed 31000/39209\n",
      "[INFO] processed 31500/39209\n",
      "[INFO] processed 32000/39209\n",
      "[INFO] processed 32500/39209\n",
      "[INFO] processed 33000/39209\n",
      "[INFO] processed 33500/39209\n",
      "[INFO] processed 34000/39209\n",
      "[INFO] processed 34500/39209\n",
      "[INFO] processed 35000/39209\n",
      "[INFO] processed 35500/39209\n",
      "[INFO] processed 36000/39209\n",
      "[INFO] processed 36500/39209\n",
      "[INFO] processed 37000/39209\n",
      "[INFO] processed 37500/39209\n",
      "[INFO] processed 38000/39209\n",
      "[INFO] processed 38500/39209\n",
      "[INFO] processed 39000/39209\n"
     ]
    },
    {
     "data": {
      "text/plain": [
       "((39209, 32, 32, 3), (39209,))"
      ]
     },
     "execution_count": 6,
     "metadata": {},
     "output_type": "execute_result"
    }
   ],
   "source": [
    "# initialize the image preprocessor\n",
    "sp = SimplePreprocessor(IMG_WIDTH, IMG_HEIGHT)\n",
    "iap = ImageToArrayPreprocessor()\n",
    "\n",
    "# load the dataset from disk \n",
    "sdl = SimpleDatasetLoader(preprocessors=[sp, iap])\n",
    "\n",
    "X, y = sdl.load(dataset_imgs, verbose=500)\n",
    "X.shape, y.shape"
   ]
  },
  {
   "attachments": {},
   "cell_type": "markdown",
   "metadata": {},
   "source": [
    "Normalization"
   ]
  },
  {
   "cell_type": "code",
   "execution_count": 7,
   "metadata": {},
   "outputs": [
    {
     "data": {
      "text/plain": [
       "(0.0, 1.0)"
      ]
     },
     "execution_count": 7,
     "metadata": {},
     "output_type": "execute_result"
    }
   ],
   "source": [
    "X= X.astype(\"float\") / 255.0\n",
    "np.min(X), np.max(X)"
   ]
  },
  {
   "attachments": {},
   "cell_type": "markdown",
   "metadata": {},
   "source": [
    "Split the dataset into train, and validation"
   ]
  },
  {
   "cell_type": "code",
   "execution_count": 8,
   "metadata": {},
   "outputs": [
    {
     "data": {
      "text/plain": [
       "((31367, 32, 32, 3), (31367,), (7842, 32, 32, 3), (7842,))"
      ]
     },
     "execution_count": 8,
     "metadata": {},
     "output_type": "execute_result"
    }
   ],
   "source": [
    "# Separate 20% validation dataset\n",
    "X_train, X_valid, y_train, y_valid = train_test_split(X, y, \n",
    "                                                    test_size=0.20, \n",
    "                                                    shuffle=True, \n",
    "                                                    stratify=y,\n",
    "                                                    random_state=RANDOM_STATE \n",
    "                                                    )\n",
    "    \n",
    "X_train.shape, y_train.shape, X_valid.shape, y_valid.shape          "
   ]
  },
  {
   "cell_type": "code",
   "execution_count": 9,
   "metadata": {},
   "outputs": [
    {
     "data": {
      "text/plain": [
       "43"
      ]
     },
     "execution_count": 9,
     "metadata": {},
     "output_type": "execute_result"
    }
   ],
   "source": [
    "len(np.unique(y))"
   ]
  },
  {
   "cell_type": "code",
   "execution_count": 10,
   "metadata": {},
   "outputs": [
    {
     "data": {
      "text/plain": [
       "array(['6', '6', '6', ..., '29', '29', '29'], dtype='<U2')"
      ]
     },
     "execution_count": 10,
     "metadata": {},
     "output_type": "execute_result"
    }
   ],
   "source": [
    "y"
   ]
  },
  {
   "cell_type": "code",
   "execution_count": 11,
   "metadata": {},
   "outputs": [
    {
     "name": "stdout",
     "output_type": "stream",
     "text": [
      "(31367, 43)\n",
      "(7842, 43)\n"
     ]
    }
   ],
   "source": [
    "y_train = keras.utils.to_categorical(y_train, class_len)\n",
    "y_valid = keras.utils.to_categorical(y_valid, class_len)\n",
    "\n",
    "print(y_train.shape)\n",
    "print(y_valid.shape)"
   ]
  },
  {
   "cell_type": "code",
   "execution_count": 12,
   "metadata": {},
   "outputs": [
    {
     "data": {
      "text/plain": [
       "array([[0., 0., 0., 0., 0., 0., 0., 0., 0., 0., 0., 0., 0., 0., 0., 0.,\n",
       "        0., 0., 0., 0., 0., 0., 0., 0., 0., 0., 0., 0., 0., 0., 0., 0.,\n",
       "        0., 0., 0., 0., 1., 0., 0., 0., 0., 0., 0.],\n",
       "       [0., 1., 0., 0., 0., 0., 0., 0., 0., 0., 0., 0., 0., 0., 0., 0.,\n",
       "        0., 0., 0., 0., 0., 0., 0., 0., 0., 0., 0., 0., 0., 0., 0., 0.,\n",
       "        0., 0., 0., 0., 0., 0., 0., 0., 0., 0., 0.],\n",
       "       [0., 0., 0., 0., 0., 0., 0., 0., 0., 0., 0., 0., 0., 0., 0., 0.,\n",
       "        0., 1., 0., 0., 0., 0., 0., 0., 0., 0., 0., 0., 0., 0., 0., 0.,\n",
       "        0., 0., 0., 0., 0., 0., 0., 0., 0., 0., 0.],\n",
       "       [0., 0., 0., 0., 0., 0., 0., 0., 0., 0., 0., 0., 0., 0., 0., 0.,\n",
       "        0., 0., 0., 0., 0., 0., 0., 0., 1., 0., 0., 0., 0., 0., 0., 0.,\n",
       "        0., 0., 0., 0., 0., 0., 0., 0., 0., 0., 0.],\n",
       "       [0., 0., 0., 0., 0., 0., 0., 0., 1., 0., 0., 0., 0., 0., 0., 0.,\n",
       "        0., 0., 0., 0., 0., 0., 0., 0., 0., 0., 0., 0., 0., 0., 0., 0.,\n",
       "        0., 0., 0., 0., 0., 0., 0., 0., 0., 0., 0.]], dtype=float32)"
      ]
     },
     "execution_count": 12,
     "metadata": {},
     "output_type": "execute_result"
    }
   ],
   "source": [
    "y_train[:5]"
   ]
  },
  {
   "cell_type": "markdown",
   "metadata": {},
   "source": [
    "## Prepare CNN Model"
   ]
  },
  {
   "cell_type": "markdown",
   "metadata": {},
   "source": [
    "Setting up the callbacks"
   ]
  },
  {
   "cell_type": "code",
   "execution_count": 13,
   "metadata": {},
   "outputs": [],
   "source": [
    "early_stopping_cb = keras.callbacks.EarlyStopping(patience=20,\n",
    "                                                     restore_best_weights=True)\n",
    "                                                     \n",
    "SAVED_MODEL_PATH = 'model/ge_traffic_sign_recognition.h5'\n",
    "model_checkpoint_cb = keras.callbacks.ModelCheckpoint(SAVED_MODEL_PATH, \n",
    "                                                      monitor=\"val_loss\", \n",
    "                                                      mode=\"min\",\n",
    "                                                      save_best_only=True, \n",
    "                                                      verbose=1)\n",
    "\n",
    "run_index = 1 # increment every time you train the model\n",
    "run_logdir = Path() / \"ge_traffic_sign_recog\" / f\"run_{run_index:03d}\"\n",
    "tensorboard_cb = tf.keras.callbacks.TensorBoard(run_logdir)\n",
    "callbacks = [early_stopping_cb, model_checkpoint_cb, tensorboard_cb]"
   ]
  },
  {
   "cell_type": "code",
   "execution_count": 14,
   "metadata": {},
   "outputs": [
    {
     "name": "stdout",
     "output_type": "stream",
     "text": [
      "Model: \"sequential\"\n",
      "_________________________________________________________________\n",
      " Layer (type)                Output Shape              Param #   \n",
      "=================================================================\n",
      " conv2d (Conv2D)             (None, 32, 32, 20)        1520      \n",
      "                                                                 \n",
      " max_pooling2d (MaxPooling2D  (None, 16, 16, 20)       0         \n",
      " )                                                               \n",
      "                                                                 \n",
      " conv2d_1 (Conv2D)           (None, 16, 16, 50)        25050     \n",
      "                                                                 \n",
      " max_pooling2d_1 (MaxPooling  (None, 8, 8, 50)         0         \n",
      " 2D)                                                             \n",
      "                                                                 \n",
      " flatten (Flatten)           (None, 3200)              0         \n",
      "                                                                 \n",
      " dense (Dense)               (None, 500)               1600500   \n",
      "                                                                 \n",
      " dense_1 (Dense)             (None, 43)                21543     \n",
      "                                                                 \n",
      "=================================================================\n",
      "Total params: 1,648,613\n",
      "Trainable params: 1,648,613\n",
      "Non-trainable params: 0\n",
      "_________________________________________________________________\n"
     ]
    }
   ],
   "source": [
    "model = LeNet.build(width=IMG_WIDTH, height=IMG_HEIGHT, depth= 3, classes=len(classes.keys()))\n",
    "model.summary()"
   ]
  },
  {
   "cell_type": "code",
   "execution_count": 15,
   "metadata": {},
   "outputs": [],
   "source": [
    "model = LeNet.build(width=IMG_WIDTH, height=IMG_HEIGHT, depth= 3, classes=len(classes.keys()))\n",
    "EPOCHS = 40\n",
    "optimizer = SGD(learning_rate=0.01, weight_decay=0.01/EPOCHS, momentum=0.9, nesterov=True)\n",
    "model.compile(optimizer=optimizer, loss='categorical_crossentropy', metrics=['accuracy'])"
   ]
  },
  {
   "cell_type": "code",
   "execution_count": null,
   "metadata": {},
   "outputs": [],
   "source": []
  },
  {
   "cell_type": "markdown",
   "metadata": {},
   "source": [
    "## Train the Model"
   ]
  },
  {
   "cell_type": "code",
   "execution_count": 16,
   "metadata": {},
   "outputs": [],
   "source": [
    "tf.keras.backend.clear_session()\n",
    "tf.random.set_seed(42)"
   ]
  },
  {
   "cell_type": "code",
   "execution_count": 17,
   "metadata": {},
   "outputs": [
    {
     "name": "stdout",
     "output_type": "stream",
     "text": [
      "Epoch 1/40\n",
      "973/981 [============================>.] - ETA: 0s - loss: 1.0224 - accuracy: 0.7136\n",
      "Epoch 1: val_loss improved from inf to 0.21962, saving model to model/ge_traffic_sign_recognition.h5\n",
      "981/981 [==============================] - 4s 3ms/step - loss: 1.0161 - accuracy: 0.7154 - val_loss: 0.2196 - val_accuracy: 0.9411\n",
      "Epoch 2/40\n",
      "974/981 [============================>.] - ETA: 0s - loss: 0.1028 - accuracy: 0.9731\n",
      "Epoch 2: val_loss improved from 0.21962 to 0.09791, saving model to model/ge_traffic_sign_recognition.h5\n",
      "981/981 [==============================] - 2s 2ms/step - loss: 0.1026 - accuracy: 0.9732 - val_loss: 0.0979 - val_accuracy: 0.9759\n",
      "Epoch 3/40\n",
      "967/981 [============================>.] - ETA: 0s - loss: 0.0389 - accuracy: 0.9896\n",
      "Epoch 3: val_loss improved from 0.09791 to 0.09267, saving model to model/ge_traffic_sign_recognition.h5\n",
      "981/981 [==============================] - 2s 2ms/step - loss: 0.0387 - accuracy: 0.9896 - val_loss: 0.0927 - val_accuracy: 0.9754\n",
      "Epoch 4/40\n",
      "968/981 [============================>.] - ETA: 0s - loss: 0.0193 - accuracy: 0.9951\n",
      "Epoch 4: val_loss improved from 0.09267 to 0.04732, saving model to model/ge_traffic_sign_recognition.h5\n",
      "981/981 [==============================] - 2s 2ms/step - loss: 0.0191 - accuracy: 0.9951 - val_loss: 0.0473 - val_accuracy: 0.9912\n",
      "Epoch 5/40\n",
      "972/981 [============================>.] - ETA: 0s - loss: 0.0079 - accuracy: 0.9984\n",
      "Epoch 5: val_loss improved from 0.04732 to 0.04449, saving model to model/ge_traffic_sign_recognition.h5\n",
      "981/981 [==============================] - 2s 2ms/step - loss: 0.0079 - accuracy: 0.9984 - val_loss: 0.0445 - val_accuracy: 0.9912\n",
      "Epoch 6/40\n",
      "974/981 [============================>.] - ETA: 0s - loss: 0.0037 - accuracy: 0.9991\n",
      "Epoch 6: val_loss did not improve from 0.04449\n",
      "981/981 [==============================] - 2s 2ms/step - loss: 0.0037 - accuracy: 0.9991 - val_loss: 0.0554 - val_accuracy: 0.9885\n",
      "Epoch 7/40\n",
      "969/981 [============================>.] - ETA: 0s - loss: 0.0020 - accuracy: 0.9998\n",
      "Epoch 7: val_loss did not improve from 0.04449\n",
      "981/981 [==============================] - 2s 2ms/step - loss: 0.0020 - accuracy: 0.9998 - val_loss: 0.0449 - val_accuracy: 0.9927\n",
      "Epoch 8/40\n",
      "974/981 [============================>.] - ETA: 0s - loss: 8.9297e-04 - accuracy: 1.0000\n",
      "Epoch 8: val_loss did not improve from 0.04449\n",
      "981/981 [==============================] - 2s 2ms/step - loss: 8.8968e-04 - accuracy: 1.0000 - val_loss: 0.0481 - val_accuracy: 0.9923\n",
      "Epoch 9/40\n",
      "969/981 [============================>.] - ETA: 0s - loss: 6.6011e-04 - accuracy: 1.0000\n",
      "Epoch 9: val_loss did not improve from 0.04449\n",
      "981/981 [==============================] - 2s 2ms/step - loss: 6.6257e-04 - accuracy: 1.0000 - val_loss: 0.0498 - val_accuracy: 0.9922\n",
      "Epoch 10/40\n",
      "970/981 [============================>.] - ETA: 0s - loss: 5.4081e-04 - accuracy: 1.0000\n",
      "Epoch 10: val_loss did not improve from 0.04449\n",
      "981/981 [==============================] - 2s 2ms/step - loss: 5.4467e-04 - accuracy: 1.0000 - val_loss: 0.0499 - val_accuracy: 0.9925\n",
      "Epoch 11/40\n",
      "955/981 [============================>.] - ETA: 0s - loss: 4.5278e-04 - accuracy: 1.0000\n",
      "Epoch 11: val_loss did not improve from 0.04449\n",
      "981/981 [==============================] - 2s 2ms/step - loss: 4.5702e-04 - accuracy: 1.0000 - val_loss: 0.0515 - val_accuracy: 0.9920\n",
      "Epoch 12/40\n",
      "954/981 [============================>.] - ETA: 0s - loss: 4.1710e-04 - accuracy: 1.0000\n",
      "Epoch 12: val_loss did not improve from 0.04449\n",
      "981/981 [==============================] - 2s 2ms/step - loss: 4.1664e-04 - accuracy: 1.0000 - val_loss: 0.0519 - val_accuracy: 0.9918\n",
      "Epoch 13/40\n",
      "964/981 [============================>.] - ETA: 0s - loss: 3.7726e-04 - accuracy: 1.0000\n",
      "Epoch 13: val_loss did not improve from 0.04449\n",
      "981/981 [==============================] - 2s 2ms/step - loss: 3.7671e-04 - accuracy: 1.0000 - val_loss: 0.0519 - val_accuracy: 0.9920\n",
      "Epoch 14/40\n",
      "960/981 [============================>.] - ETA: 0s - loss: 3.5619e-04 - accuracy: 1.0000\n",
      "Epoch 14: val_loss did not improve from 0.04449\n",
      "981/981 [==============================] - 2s 2ms/step - loss: 3.5864e-04 - accuracy: 1.0000 - val_loss: 0.0531 - val_accuracy: 0.9915\n",
      "Epoch 15/40\n",
      "977/981 [============================>.] - ETA: 0s - loss: 3.4037e-04 - accuracy: 1.0000\n",
      "Epoch 15: val_loss did not improve from 0.04449\n",
      "981/981 [==============================] - 2s 2ms/step - loss: 3.4075e-04 - accuracy: 1.0000 - val_loss: 0.0530 - val_accuracy: 0.9920\n",
      "Epoch 16/40\n",
      "965/981 [============================>.] - ETA: 0s - loss: 3.0330e-04 - accuracy: 1.0000\n",
      "Epoch 16: val_loss did not improve from 0.04449\n",
      "981/981 [==============================] - 2s 2ms/step - loss: 3.0709e-04 - accuracy: 1.0000 - val_loss: 0.0540 - val_accuracy: 0.9921\n",
      "Epoch 17/40\n",
      "970/981 [============================>.] - ETA: 0s - loss: 2.7449e-04 - accuracy: 1.0000\n",
      "Epoch 17: val_loss did not improve from 0.04449\n",
      "981/981 [==============================] - 2s 2ms/step - loss: 2.7679e-04 - accuracy: 1.0000 - val_loss: 0.0545 - val_accuracy: 0.9918\n",
      "Epoch 18/40\n",
      "968/981 [============================>.] - ETA: 0s - loss: 2.8216e-04 - accuracy: 1.0000\n",
      "Epoch 18: val_loss did not improve from 0.04449\n",
      "981/981 [==============================] - 2s 2ms/step - loss: 2.8065e-04 - accuracy: 1.0000 - val_loss: 0.0547 - val_accuracy: 0.9916\n",
      "Epoch 19/40\n",
      "979/981 [============================>.] - ETA: 0s - loss: 2.6629e-04 - accuracy: 1.0000\n",
      "Epoch 19: val_loss did not improve from 0.04449\n",
      "981/981 [==============================] - 2s 2ms/step - loss: 2.6603e-04 - accuracy: 1.0000 - val_loss: 0.0548 - val_accuracy: 0.9917\n",
      "Epoch 20/40\n",
      "981/981 [==============================] - ETA: 0s - loss: 2.6390e-04 - accuracy: 1.0000\n",
      "Epoch 20: val_loss did not improve from 0.04449\n",
      "981/981 [==============================] - 2s 2ms/step - loss: 2.6390e-04 - accuracy: 1.0000 - val_loss: 0.0555 - val_accuracy: 0.9920\n",
      "Epoch 21/40\n",
      "970/981 [============================>.] - ETA: 0s - loss: 2.4738e-04 - accuracy: 1.0000\n",
      "Epoch 21: val_loss did not improve from 0.04449\n",
      "981/981 [==============================] - 2s 2ms/step - loss: 2.4836e-04 - accuracy: 1.0000 - val_loss: 0.0563 - val_accuracy: 0.9918\n",
      "Epoch 22/40\n",
      "963/981 [============================>.] - ETA: 0s - loss: 2.4544e-04 - accuracy: 1.0000\n",
      "Epoch 22: val_loss did not improve from 0.04449\n",
      "981/981 [==============================] - 2s 2ms/step - loss: 2.4394e-04 - accuracy: 1.0000 - val_loss: 0.0562 - val_accuracy: 0.9922\n",
      "Epoch 23/40\n",
      "970/981 [============================>.] - ETA: 0s - loss: 2.3337e-04 - accuracy: 1.0000\n",
      "Epoch 23: val_loss did not improve from 0.04449\n",
      "981/981 [==============================] - 2s 2ms/step - loss: 2.3264e-04 - accuracy: 1.0000 - val_loss: 0.0567 - val_accuracy: 0.9917\n",
      "Epoch 24/40\n",
      "960/981 [============================>.] - ETA: 0s - loss: 2.3234e-04 - accuracy: 1.0000\n",
      "Epoch 24: val_loss did not improve from 0.04449\n",
      "981/981 [==============================] - 2s 2ms/step - loss: 2.3213e-04 - accuracy: 1.0000 - val_loss: 0.0570 - val_accuracy: 0.9921\n",
      "Epoch 25/40\n",
      "981/981 [==============================] - ETA: 0s - loss: 2.2728e-04 - accuracy: 1.0000\n",
      "Epoch 25: val_loss did not improve from 0.04449\n",
      "981/981 [==============================] - 2s 2ms/step - loss: 2.2728e-04 - accuracy: 1.0000 - val_loss: 0.0572 - val_accuracy: 0.9922\n"
     ]
    }
   ],
   "source": [
    "history = model.fit(X_train,y_train,\n",
    "                        validation_data=(X_valid, y_valid),\n",
    "                        batch_size=BATCH_SIZE,\n",
    "                        epochs=EPOCHS,\n",
    "                        callbacks=callbacks)"
   ]
  },
  {
   "cell_type": "markdown",
   "metadata": {},
   "source": [
    "## Evaluate the Model"
   ]
  },
  {
   "cell_type": "code",
   "execution_count": 18,
   "metadata": {},
   "outputs": [
    {
     "data": {
      "text/plain": [
       "dict_keys(['loss', 'accuracy', 'val_loss', 'val_accuracy'])"
      ]
     },
     "execution_count": 18,
     "metadata": {},
     "output_type": "execute_result"
    }
   ],
   "source": [
    "history.history.keys()"
   ]
  },
  {
   "cell_type": "code",
   "execution_count": 19,
   "metadata": {},
   "outputs": [
    {
     "data": {
      "text/plain": [
       "<matplotlib.legend.Legend at 0x7f64f1693880>"
      ]
     },
     "execution_count": 19,
     "metadata": {},
     "output_type": "execute_result"
    },
    {
     "data": {
      "image/png": "[encoded data removed]",
      "text/plain": [
       "<Figure size 640x480 with 1 Axes>"
      ]
     },
     "metadata": {},
     "output_type": "display_data"
    }
   ],
   "source": [
    "plt.figure()\n",
    "plt.plot(history.history[\"loss\"], label=\"train_loss\")\n",
    "plt.plot(history.history[\"val_loss\"], label=\"val_loss\")\n",
    "plt.plot(history.history[\"accuracy\"], label=\"train_acc\")\n",
    "plt.plot(history.history[\"val_accuracy\"], label=\"val_acc\")\n",
    "plt.title(\"Training Loss and Accuracy per Epoch\")\n",
    "\n",
    "plt.xlabel(\"Epoch #\")\n",
    "plt.ylabel(\"Loss/Accuracy\")\n",
    "plt.legend()"
   ]
  },
  {
   "cell_type": "code",
   "execution_count": 20,
   "metadata": {},
   "outputs": [
    {
     "name": "stdout",
     "output_type": "stream",
     "text": [
      "246/246 [==============================] - 0s 1ms/step - loss: 0.0445 - accuracy: 0.9912\n"
     ]
    },
    {
     "data": {
      "text/plain": [
       "(0.044494159519672394, 0.9912012219429016)"
      ]
     },
     "execution_count": 20,
     "metadata": {},
     "output_type": "execute_result"
    }
   ],
   "source": [
    "loss, accuracy = model.evaluate(X_valid, y_valid)\n",
    "loss, accuracy"
   ]
  },
  {
   "cell_type": "code",
   "execution_count": 21,
   "metadata": {},
   "outputs": [
    {
     "name": "stdout",
     "output_type": "stream",
     "text": [
      "246/246 [==============================] - 0s 752us/step\n",
      "[1.6907324e-10 6.5978818e-15 4.9725789e-11 2.5314854e-14 1.4073210e-18\n",
      " 5.1161810e-06 4.8506962e-07 7.0085620e-13 2.3203360e-12 6.5777807e-14\n",
      " 4.7616427e-10 1.4949734e-06 3.8639647e-07 1.4560656e-14 1.9115599e-12\n",
      " 8.3434648e-11 6.9867267e-13 1.4206050e-12 1.2151078e-12 9.9012520e-11\n",
      " 2.3267283e-05 6.7969786e-08 6.0572354e-08 4.0756701e-04 1.3804807e-06\n",
      " 5.1602678e-06 1.8388027e-08 8.2549543e-13 1.6003558e-07 9.9954176e-01\n",
      " 8.0808632e-06 5.0715862e-06 2.8725746e-09 7.7555734e-15 3.2521458e-11\n",
      " 2.6489075e-11 3.8654296e-08 3.2973214e-12 9.5528056e-12 9.1870574e-15\n",
      " 1.2156339e-12 3.2492398e-10 5.4680115e-11]\n",
      "[6.26481853e-12 1.05931245e-14 1.73056296e-12 1.46338825e-16\n",
      " 6.14707452e-10 5.34792592e-11 8.48333689e-19 1.42060549e-06\n",
      " 9.99998569e-01 3.31419926e-11 1.67799482e-15 8.14085483e-16\n",
      " 4.13075742e-20 2.14278889e-19 1.77578086e-15 6.49815202e-11\n",
      " 3.43289443e-13 1.38873003e-13 4.13656851e-16 4.27052969e-17\n",
      " 3.38090701e-11 1.09211907e-19 9.45079592e-17 1.45501626e-16\n",
      " 1.13281089e-13 4.48267794e-21 5.36679371e-13 6.97499572e-15\n",
      " 1.26609953e-12 1.60393617e-14 3.22888472e-15 1.47871190e-18\n",
      " 1.21919024e-16 1.58866695e-18 8.89046071e-19 5.17668756e-19\n",
      " 1.68066285e-19 4.63393627e-17 2.72853668e-19 4.22933477e-17\n",
      " 1.77805832e-15 8.58956342e-18 2.50887877e-16]\n",
      "[1.47488053e-14 8.87704836e-20 1.64728409e-27 0.00000000e+00\n",
      " 1.20438806e-20 1.36947432e-29 9.97429090e-37 1.93500403e-32\n",
      " 3.09070644e-21 4.98284387e-34 2.19735044e-34 1.11715289e-36\n",
      " 1.40226094e-36 4.70031961e-37 1.04025599e-15 3.21578008e-26\n",
      " 2.45404860e-38 1.00000000e+00 4.61734932e-20 1.95045738e-38\n",
      " 6.21447602e-30 1.74725440e-35 7.21172222e-23 6.13624085e-31\n",
      " 1.88806927e-31 4.23080153e-28 4.02533600e-23 4.77337132e-38\n",
      " 4.13407963e-32 1.23324252e-25 6.00882636e-35 1.81928827e-31\n",
      " 1.33969685e-28 9.78361997e-35 5.55452443e-34 0.00000000e+00\n",
      " 5.67309773e-33 1.37802247e-35 0.00000000e+00 1.99362307e-36\n",
      " 4.32085041e-36 0.00000000e+00 0.00000000e+00]\n"
     ]
    }
   ],
   "source": [
    "predicted = model.predict(X_valid)\n",
    "for pred in predicted[:3]:\n",
    "    print(pred)"
   ]
  },
  {
   "cell_type": "code",
   "execution_count": 22,
   "metadata": {},
   "outputs": [
    {
     "data": {
      "text/plain": [
       "array([29,  8, 17,  2, 37])"
      ]
     },
     "execution_count": 22,
     "metadata": {},
     "output_type": "execute_result"
    }
   ],
   "source": [
    "predicted = np.argmax(predicted, axis=1)\n",
    "predicted[:5]"
   ]
  },
  {
   "cell_type": "code",
   "execution_count": 23,
   "metadata": {},
   "outputs": [
    {
     "data": {
      "text/plain": [
       "array([29,  8, 17,  2, 37])"
      ]
     },
     "execution_count": 23,
     "metadata": {},
     "output_type": "execute_result"
    }
   ],
   "source": [
    "y_valid = np.argmax(y_valid, axis=1)\n",
    "y_valid[:5]"
   ]
  },
  {
   "cell_type": "code",
   "execution_count": 24,
   "metadata": {},
   "outputs": [
    {
     "name": "stdout",
     "output_type": "stream",
     "text": [
      "                               precision    recall  f1-score   support\n",
      "\n",
      "         Speed limit (20km/h)       0.98      0.95      0.96        42\n",
      "         Speed limit (30km/h)       0.99      0.99      0.99       444\n",
      "         Speed limit (50km/h)       0.99      1.00      0.99       450\n",
      "         Speed limit (60km/h)       0.98      0.98      0.98       282\n",
      "         Speed limit (70km/h)       0.99      0.99      0.99       396\n",
      "         Speed limit (80km/h)       0.98      0.98      0.98       372\n",
      "  End of speed limit (80km/h)       0.99      1.00      0.99        84\n",
      "        Speed limit (100km/h)       1.00      0.98      0.99       288\n",
      "        Speed limit (120km/h)       0.99      1.00      0.99       282\n",
      "                   No passing       1.00      0.99      0.99       294\n",
      " No passing veh over 3.5 tons       0.99      1.00      1.00       402\n",
      " Right-of-way at intersection       1.00      0.99      0.99       264\n",
      "                Priority road       1.00      1.00      1.00       420\n",
      "                        Yield       0.99      1.00      0.99       432\n",
      "                         Stop       1.00      1.00      1.00       156\n",
      "                  No vehicles       1.00      0.99      1.00       126\n",
      "    Veh > 3.5 tons prohibited       1.00      1.00      1.00        84\n",
      "                     No entry       1.00      1.00      1.00       222\n",
      "              General caution       1.00      0.99      0.99       240\n",
      "         Dangerous curve left       0.98      1.00      0.99        42\n",
      "        Dangerous curve right       0.99      0.97      0.98        72\n",
      "                 Double curve       1.00      0.97      0.98        66\n",
      "                   Bumpy road       0.99      0.99      0.99        78\n",
      "                Slippery road       0.97      1.00      0.99       102\n",
      "    Road narrows on the right       0.98      1.00      0.99        54\n",
      "                    Road work       0.99      0.98      0.99       300\n",
      "              Traffic signals       0.98      0.99      0.99       120\n",
      "                  Pedestrians       1.00      0.96      0.98        48\n",
      "            Children crossing       1.00      0.96      0.98       108\n",
      "            Bicycles crossing       0.95      0.96      0.95        54\n",
      "           Beware of ice/snow       0.97      0.99      0.98        90\n",
      "        Wild animals crossing       0.99      0.98      0.98       156\n",
      "   End speed + passing limits       0.98      1.00      0.99        48\n",
      "             Turn right ahead       1.00      1.00      1.00       138\n",
      "              Turn left ahead       1.00      0.99      0.99        84\n",
      "                   Ahead only       1.00      1.00      1.00       240\n",
      "         Go straight or right       1.00      0.99      0.99        78\n",
      "          Go straight or left       1.00      1.00      1.00        42\n",
      "                   Keep right       1.00      1.00      1.00       414\n",
      "                    Keep left       1.00      1.00      1.00        60\n",
      "         Roundabout mandatory       1.00      1.00      1.00        72\n",
      "            End of no passing       1.00      0.98      0.99        48\n",
      "End no passing veh > 3.5 tons       0.98      0.98      0.98        48\n",
      "\n",
      "                     accuracy                           0.99      7842\n",
      "                    macro avg       0.99      0.99      0.99      7842\n",
      "                 weighted avg       0.99      0.99      0.99      7842\n",
      "\n"
     ]
    }
   ],
   "source": [
    "print(classification_report(y_valid, predicted,\n",
    "                            target_names=classes.values()))"
   ]
  },
  {
   "cell_type": "code",
   "execution_count": null,
   "metadata": {},
   "outputs": [],
   "source": []
  }
 ],
 "metadata": {
  "kernelspec": {
   "display_name": "German_Traffic_Sign_Recognition",
   "language": "python",
   "name": "python3"
  },
  "language_info": {
   "codemirror_mode": {
    "name": "ipython",
    "version": 3
   },
   "file_extension": ".py",
   "mimetype": "text/x-python",
   "name": "python",
   "nbconvert_exporter": "python",
   "pygments_lexer": "ipython3",
   "version": "3.10.9"
  },
  "orig_nbformat": 4,
  "vscode": {
   "interpreter": {
    "hash": "d537c92fe30561e09db272b7a25ae30e6e2bc97a97b3734491f304a50020ffea"
   }
  }
 },
 "nbformat": 4,
 "nbformat_minor": 2
}
