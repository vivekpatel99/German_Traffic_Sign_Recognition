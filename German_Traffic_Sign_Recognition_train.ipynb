{
 "cells": [
  {
   "attachments": {},
   "cell_type": "markdown",
   "metadata": {},
   "source": [
    "# German_Traffic_Sign_Recognition\n",
    "## About Dataset\n",
    "### Context\n",
    "The [German Traffic Sign Benchmark](https://www.kaggle.com/datasets/meowmeowmeowmeowmeow/gtsrb-german-traffic-sign?datasetId=82373)\n",
    " is a multi-class, single-image classification challenge held at the International Joint Conference on Neural Networks (IJCNN) 2011. We cordially invite researchers from relevant fields to participate: The competition is designed to allow for participation without special domain knowledge. Our benchmark has the following properties:\n",
    "\n",
    "* Single-image, multi-class classification problem\n",
    "* More than 40 classes\n",
    "* More than 50,000 images in total\n",
    "* Large, lifelike database\n",
    "\n",
    "**Acknowledgements** \\\n",
    "INI Benchmark Website\n"
   ]
  },
  {
   "attachments": {},
   "cell_type": "markdown",
   "metadata": {},
   "source": [
    "## Imports"
   ]
  },
  {
   "cell_type": "code",
   "execution_count": 1,
   "metadata": {},
   "outputs": [],
   "source": [
    "import logging\n",
    "import os\n",
    "\n",
    "# ignore all the warning and debug information from tensorflow\n",
    "os.environ['TF_CPP_MIN_LOG_LEVEL'] = '2'\n",
    "logging.getLogger('tensorflow').setLevel(logging.ERROR)\n",
    "\n",
    "from sklearn.metrics import classification_report\n",
    "from libs.nn.conv.minivggnet import MiniVGGNet\n",
    "import tensorflow as tf\n",
    "from tensorflow import keras\n",
    "from keras import layers\n",
    "import numpy as np\n",
    "import matplotlib.pyplot as plt\n",
    "import matplotlib.image as img\n",
    "from pathlib import Path\n",
    "import os"
   ]
  },
  {
   "cell_type": "code",
   "execution_count": 2,
   "metadata": {},
   "outputs": [
    {
     "data": {
      "text/plain": [
       "[PhysicalDevice(name='/physical_device:GPU:0', device_type='GPU')]"
      ]
     },
     "execution_count": 2,
     "metadata": {},
     "output_type": "execute_result"
    }
   ],
   "source": [
    "\n",
    "# Avoid OOM errors by setting GPU Memory Consumption Growth\n",
    "gpus = tf.config.experimental.list_physical_devices('GPU')\n",
    "for gpu in gpus: \n",
    "    tf.config.experimental.set_memory_growth(gpu, True)\n",
    "tf.config.list_physical_devices('GPU')"
   ]
  },
  {
   "attachments": {},
   "cell_type": "markdown",
   "metadata": {},
   "source": [
    "## Prepare Dataset for training"
   ]
  },
  {
   "cell_type": "code",
   "execution_count": 3,
   "metadata": {},
   "outputs": [],
   "source": [
    "# Look into the data directory\n",
    "images_dir = './gtsrb-german-traffic-sign'\n",
    "\n",
    "dataset_dir = f'{images_dir}/Train'"
   ]
  },
  {
   "cell_type": "code",
   "execution_count": 4,
   "metadata": {},
   "outputs": [],
   "source": [
    "BATCH_SIZE = 32\n",
    "IMG_WIDTH = IMG_HEIGHT = 32\n",
    "RANDOM_STATE=123"
   ]
  },
  {
   "cell_type": "code",
   "execution_count": 5,
   "metadata": {},
   "outputs": [],
   "source": [
    "classes = {0: 'Speed limit (20km/h)',\n",
    "           1: 'Speed limit (30km/h)',\n",
    "           2: 'Speed limit (50km/h)',\n",
    "           3: 'Speed limit (60km/h)',\n",
    "           4: 'Speed limit (70km/h)',\n",
    "           5: 'Speed limit (80km/h)',\n",
    "           6: 'End of speed limit (80km/h)',\n",
    "           7: 'Speed limit (100km/h)',\n",
    "           8: 'Speed limit (120km/h)',\n",
    "           9: 'No passing',\n",
    "           10: 'No passing veh over 3.5 tons',\n",
    "           11: 'Right-of-way at intersection',\n",
    "           12: 'Priority road',\n",
    "           13: 'Yield',\n",
    "           14: 'Stop',\n",
    "           15: 'No vehicles',\n",
    "           16: 'Veh > 3.5 tons prohibited',\n",
    "           17: 'No entry',\n",
    "           18: 'General caution',\n",
    "           19: 'Dangerous curve left',\n",
    "           20: 'Dangerous curve right',\n",
    "           21: 'Double curve',\n",
    "           22: 'Bumpy road',\n",
    "           23: 'Slippery road',\n",
    "           24: 'Road narrows on the right',\n",
    "           25: 'Road work',\n",
    "           26: 'Traffic signals',\n",
    "           27: 'Pedestrians',\n",
    "           28: 'Children crossing',\n",
    "           29: 'Bicycles crossing',\n",
    "           30: 'Beware of ice/snow',\n",
    "           31: 'Wild animals crossing',\n",
    "           32: 'End speed + passing limits',\n",
    "           33: 'Turn right ahead',\n",
    "           34: 'Turn left ahead',\n",
    "           35: 'Ahead only',\n",
    "           36: 'Go straight or right',\n",
    "           37: 'Go straight or left',\n",
    "           38: 'Keep right',\n",
    "           39: 'Keep left',\n",
    "           40: 'Roundabout mandatory',\n",
    "           41: 'End of no passing',\n",
    "           42: 'End no passing veh > 3.5 tons'}"
   ]
  },
  {
   "cell_type": "code",
   "execution_count": 6,
   "metadata": {},
   "outputs": [
    {
     "data": {
      "text/plain": [
       "43"
      ]
     },
     "execution_count": 6,
     "metadata": {},
     "output_type": "execute_result"
    }
   ],
   "source": [
    "len(classes.keys())"
   ]
  },
  {
   "cell_type": "code",
   "execution_count": 7,
   "metadata": {},
   "outputs": [
    {
     "name": "stdout",
     "output_type": "stream",
     "text": [
      "Found 39209 files belonging to 43 classes.\n",
      "Using 31368 files for training.\n",
      "Using 7841 files for validation.\n"
     ]
    }
   ],
   "source": [
    "train_ds, val_ds = keras.utils.image_dataset_from_directory(\n",
    "  dataset_dir,\n",
    "  validation_split=0.2,\n",
    "  subset=\"both\",\n",
    "  seed=RANDOM_STATE,\n",
    "  shuffle=True,\n",
    "  label_mode='categorical' ,\n",
    "  image_size=(IMG_HEIGHT, IMG_WIDTH),\n",
    "  batch_size=BATCH_SIZE)"
   ]
  },
  {
   "cell_type": "code",
   "execution_count": 8,
   "metadata": {},
   "outputs": [
    {
     "data": {
      "text/plain": [
       "['0',\n",
       " '1',\n",
       " '10',\n",
       " '11',\n",
       " '12',\n",
       " '13',\n",
       " '14',\n",
       " '15',\n",
       " '16',\n",
       " '17',\n",
       " '18',\n",
       " '19',\n",
       " '2',\n",
       " '20',\n",
       " '21',\n",
       " '22',\n",
       " '23',\n",
       " '24',\n",
       " '25',\n",
       " '26',\n",
       " '27',\n",
       " '28',\n",
       " '29',\n",
       " '3',\n",
       " '30',\n",
       " '31',\n",
       " '32',\n",
       " '33',\n",
       " '34',\n",
       " '35',\n",
       " '36',\n",
       " '37',\n",
       " '38',\n",
       " '39',\n",
       " '4',\n",
       " '40',\n",
       " '41',\n",
       " '42',\n",
       " '5',\n",
       " '6',\n",
       " '7',\n",
       " '8',\n",
       " '9']"
      ]
     },
     "execution_count": 8,
     "metadata": {},
     "output_type": "execute_result"
    }
   ],
   "source": [
    "classes  = train_ds.class_names\n",
    "classes"
   ]
  },
  {
   "cell_type": "code",
   "execution_count": 9,
   "metadata": {},
   "outputs": [
    {
     "name": "stdout",
     "output_type": "stream",
     "text": [
      "tf.Tensor(\n",
      "[[[[ 95.40918    96.18945    96.23633  ]\n",
      "   [ 96.25928    93.7876     90.0874   ]\n",
      "   [ 97.15723    93.31348    84.41748  ]\n",
      "   ...\n",
      "   [ 75.96875    79.30176    65.57764  ]\n",
      "   [ 72.30908    76.35303    64.97803  ]\n",
      "   [ 71.15723    75.0708     63.242676 ]]\n",
      "\n",
      "  [[ 98.328125   99.55322   102.05957  ]\n",
      "   [ 94.282715   94.67676    93.20459  ]\n",
      "   [ 97.46777    98.3125     89.6875   ]\n",
      "   ...\n",
      "   [ 71.21875    76.17041    63.38965  ]\n",
      "   [ 70.28662    75.16846    64.765625 ]\n",
      "   [ 71.640625   74.481445   63.55957  ]]\n",
      "\n",
      "  [[ 97.39697    99.86572   101.24072  ]\n",
      "   [ 96.88916    99.24805    97.13867  ]\n",
      "   [101.004395  104.38379    94.38818  ]\n",
      "   ...\n",
      "   [ 68.42432    74.975586   63.84619  ]\n",
      "   [ 67.87598    74.28223    64.157715 ]\n",
      "   [ 69.947754   72.65088    61.729004 ]]\n",
      "\n",
      "  ...\n",
      "\n",
      "  [[ 99.115234  106.54736    86.07861  ]\n",
      "   [ 93.31494   100.32959    80.095215 ]\n",
      "   [ 92.995605  100.265625   81.370605 ]\n",
      "   ...\n",
      "   [ 66.31006    67.35254    58.04004  ]\n",
      "   [ 64.07617    64.186035   56.82715  ]\n",
      "   [ 60.952637   60.578125   55.91162  ]]\n",
      "\n",
      "  [[ 98.331055  104.72461    84.72461  ]\n",
      "   [ 91.072754   99.36279    79.42871  ]\n",
      "   [ 86.282715   96.82959    77.501465 ]\n",
      "   ...\n",
      "   [ 66.2334     65.467285   55.686035 ]\n",
      "   [ 59.251953   59.465332   51.996582 ]\n",
      "   [ 55.706543   58.672363   53.112793 ]]\n",
      "\n",
      "  [[ 92.37695    99.29785    78.3916   ]\n",
      "   [ 89.63086    97.00293    76.09668  ]\n",
      "   [ 89.11865    98.14453    77.2749   ]\n",
      "   ...\n",
      "   [ 62.90088    62.78662    53.00537  ]\n",
      "   [ 58.64746    59.36914    51.90039  ]\n",
      "   [ 56.890625   58.98535    50.40088  ]]]\n",
      "\n",
      "\n",
      " [[[ 50.6084     44.6084     40.20215  ]\n",
      "   [ 47.84961    42.41211    36.118164 ]\n",
      "   [ 47.844727   43.125977   36.125977 ]\n",
      "   ...\n",
      "   [ 92.4668     86.79004    74.7793   ]\n",
      "   [ 85.049805   75.91797    62.717773 ]\n",
      "   [ 94.288086   81.69238    68.896484 ]]\n",
      "\n",
      "  [[ 53.819336   47.24414    40.762695 ]\n",
      "   [ 49.01367    44.16992    36.13867  ]\n",
      "   [ 48.305664   45.15039    38.18164  ]\n",
      "   ...\n",
      "   [ 93.18457    84.30859    69.31152  ]\n",
      "   [ 89.73242    79.57617    64.54492  ]\n",
      "   [ 88.20117    78.70703    66.913086 ]]\n",
      "\n",
      "  [[ 55.333984   49.46875    40.65625  ]\n",
      "   [ 54.97168    46.75293    37.910156 ]\n",
      "   [ 54.61621    47.442383   41.192383 ]\n",
      "   ...\n",
      "   [101.0791     94.8291     82.18555  ]\n",
      "   [ 88.56738    81.06738    68.09961  ]\n",
      "   [ 77.71094    73.30371    62.242188 ]]\n",
      "\n",
      "  ...\n",
      "\n",
      "  [[ 59.000977   58.16797    47.157227 ]\n",
      "   [ 71.81152    70.03027    55.936523 ]\n",
      "   [ 96.22168    92.70801    80.98535  ]\n",
      "   ...\n",
      "   [ 80.98047    66.44531    54.47168  ]\n",
      "   [ 49.964844   48.341797   41.185547 ]\n",
      "   [ 43.09375    44.21875    38.051758 ]]\n",
      "\n",
      "  [[ 58.375      57.96875    48.75586  ]\n",
      "   [ 72.01367    69.975586   58.288086 ]\n",
      "   [ 99.46484    97.4043     80.37793  ]\n",
      "   ...\n",
      "   [102.07422    76.643555   65.57715  ]\n",
      "   [ 53.930664   50.04883    44.368164 ]\n",
      "   [ 45.174805   45.1875     38.018555 ]]\n",
      "\n",
      "  [[ 54.31836    55.17871    43.27246  ]\n",
      "   [ 63.668945   63.64453    52.71289  ]\n",
      "   [ 96.791016   97.12402    80.58301  ]\n",
      "   ...\n",
      "   [114.97363    81.859375   62.19043  ]\n",
      "   [ 54.799805   50.512695   44.76953  ]\n",
      "   [ 45.910156   45.566406   39.768555 ]]]\n",
      "\n",
      "\n",
      " [[[ 36.0625     35.03125    37.03125  ]\n",
      "   [ 38.         35.90625    37.90625  ]\n",
      "   [ 37.53125    34.84375    36.84375  ]\n",
      "   ...\n",
      "   [ 45.84375    44.84375    49.       ]\n",
      "   [ 46.         44.09375    46.28125  ]\n",
      "   [ 48.90625    46.90625    47.9375   ]]\n",
      "\n",
      "  [[ 33.23291    32.231445   33.308105 ]\n",
      "   [ 36.004395   34.953125   37.04248  ]\n",
      "   [ 34.969727   34.03955    37.1416   ]\n",
      "   ...\n",
      "   [ 45.337402   43.384277   50.250977 ]\n",
      "   [ 44.183105   42.1875     45.506836 ]\n",
      "   [ 46.07666    44.07666    44.214355 ]]\n",
      "\n",
      "  [[ 34.822266   32.958008   34.911133 ]\n",
      "   [ 33.976074   33.984375   36.913574 ]\n",
      "   [ 31.934082   32.934082   35.94629  ]\n",
      "   ...\n",
      "   [ 47.934082   45.79004    50.024414 ]\n",
      "   [ 46.023926   44.023926   46.3042   ]\n",
      "   [ 44.208984   42.208984   43.166992 ]]\n",
      "\n",
      "  ...\n",
      "\n",
      "  [[ 35.         32.075684   37.15625  ]\n",
      "   [ 35.09375    32.         37.148926 ]\n",
      "   [ 36.012207   32.15625    37.234375 ]\n",
      "   ...\n",
      "   [ 44.222168   42.15625    45.921875 ]\n",
      "   [ 43.313477   40.3291     43.344727 ]\n",
      "   [ 42.114258   39.111816   42.03369  ]]\n",
      "\n",
      "  [[ 35.095215   33.063965   39.04834  ]\n",
      "   [ 35.225586   32.131836   38.99121  ]\n",
      "   [ 36.21045    32.21045    38.163574 ]\n",
      "   ...\n",
      "   [ 45.09375    42.25       45.09375  ]\n",
      "   [ 45.95752    42.00879    44.10254  ]\n",
      "   [ 43.186035   40.10791    42.10791  ]]\n",
      "\n",
      "  [[ 37.03125    35.         40.03125  ]\n",
      "   [ 37.90625    34.8125     40.71875  ]\n",
      "   [ 37.3125     33.3125     38.3125   ]\n",
      "   ...\n",
      "   [ 47.         44.15625    47.       ]\n",
      "   [ 47.         42.1875     44.28125  ]\n",
      "   [ 45.0625     41.03125    43.03125  ]]]\n",
      "\n",
      "\n",
      " ...\n",
      "\n",
      "\n",
      " [[[ 46.03125    49.96875    40.96875  ]\n",
      "   [ 47.16211    50.15625    41.34961  ]\n",
      "   [ 44.94336    49.152344   41.496094 ]\n",
      "   ...\n",
      "   [ 52.177734   63.48047    49.117188 ]\n",
      "   [ 50.210938   61.185547   47.816406 ]\n",
      "   [ 45.32422    56.351562   45.197266 ]]\n",
      "\n",
      "  [[ 45.16211    49.09961    40.38672  ]\n",
      "   [ 46.509766   49.322266   41.03711  ]\n",
      "   [ 47.027344   49.90625    43.376953 ]\n",
      "   ...\n",
      "   [ 61.228516   72.16406    57.507812 ]\n",
      "   [ 56.47461    66.64453    53.10547  ]\n",
      "   [ 45.851562   57.726562   45.734375 ]]\n",
      "\n",
      "  [[ 46.554688   50.345703   44.740234 ]\n",
      "   [ 47.597656   50.46875    46.035156 ]\n",
      "   [ 46.316406   48.89258    44.10742  ]\n",
      "   ...\n",
      "   [ 60.314453   69.9043     47.859375 ]\n",
      "   [ 55.32617    64.828125   47.304688 ]\n",
      "   [ 49.126953   60.533203   49.33789  ]]\n",
      "\n",
      "  ...\n",
      "\n",
      "  [[ 42.291016   43.26953    42.17578  ]\n",
      "   [ 38.253906   41.658203   41.501953 ]\n",
      "   [ 32.117188   36.91211    36.75586  ]\n",
      "   ...\n",
      "   [ 27.361328   28.361328   31.361328 ]\n",
      "   [ 26.314453   27.314453   30.1875   ]\n",
      "   [ 28.822266   30.759766   33.603516 ]]\n",
      "\n",
      "  [[ 36.54492    39.36914    37.58203  ]\n",
      "   [ 36.158203   39.36328    39.36328  ]\n",
      "   [ 36.191406   39.972656   39.972656 ]\n",
      "   ...\n",
      "   [ 27.029297   28.029297   31.935547 ]\n",
      "   [ 26.923828   27.923828   31.09375  ]\n",
      "   [ 27.169922   29.107422   31.257812 ]]\n",
      "\n",
      "  [[ 43.507812   46.56836    43.72461  ]\n",
      "   [ 40.23828    44.21289    43.42578  ]\n",
      "   [ 40.92383    44.61133    44.61133  ]\n",
      "   ...\n",
      "   [ 28.271484   29.271484   33.9375   ]\n",
      "   [ 27.96875    28.96875    32.33789  ]\n",
      "   [ 27.96875    29.90625    31.96875  ]]]\n",
      "\n",
      "\n",
      " [[[ 35.154785   35.15576    37.11035  ]\n",
      "   [ 37.123535   37.14209    38.15625  ]\n",
      "   [ 39.078125   38.27881    38.305176 ]\n",
      "   ...\n",
      "   [ 68.257324   67.3042     69.3042   ]\n",
      "   [ 67.237305   67.069824   69.09961  ]\n",
      "   [ 63.311523   65.03223    73.09277  ]]\n",
      "\n",
      "  [[ 40.68799    40.814453   41.75049  ]\n",
      "   [ 40.80957    43.05713    45.780273 ]\n",
      "   [ 42.851562   46.305664   47.055664 ]\n",
      "   ...\n",
      "   [166.5083    164.40625   165.86572  ]\n",
      "   [163.7793    159.41748   161.54004  ]\n",
      "   [166.85547   160.04883   171.95654  ]]\n",
      "\n",
      "  [[ 69.180176   70.06592    69.92285  ]\n",
      "   [ 79.04883    82.745605   83.38623  ]\n",
      "   [ 90.13135    97.06201    96.59326  ]\n",
      "   ...\n",
      "   [137.17285   133.40234   128.72363  ]\n",
      "   [141.11914   130.71533   123.27588  ]\n",
      "   [197.69873   179.38184   180.83252  ]]\n",
      "\n",
      "  ...\n",
      "\n",
      "  [[ 16.015625   20.153809   25.461426 ]\n",
      "   [ 17.046875   19.992676   24.992676 ]\n",
      "   [ 17.934082   19.765625   24.831543 ]\n",
      "   ...\n",
      "   [ 31.44336    39.999023   42.541016 ]\n",
      "   [ 43.415527   44.969727   45.435547 ]\n",
      "   [ 64.36426    58.538574   42.02539  ]]\n",
      "\n",
      "  [[ 32.342285   35.43457    38.60791  ]\n",
      "   [ 33.458496   36.496582   38.820312 ]\n",
      "   [ 17.992676   21.805176   25.0708   ]\n",
      "   ...\n",
      "   [ 33.493164   46.203613   49.12451  ]\n",
      "   [ 44.42871    51.245605   54.0625   ]\n",
      "   [ 56.657227   57.18994    46.836426 ]]\n",
      "\n",
      "  [[ 16.654297   24.498047   25.529785 ]\n",
      "   [ 22.138672   29.983887   29.124512 ]\n",
      "   [ 16.28955    24.16455    24.41211  ]\n",
      "   ...\n",
      "   [ 39.78711    53.833984   57.72705  ]\n",
      "   [ 46.65039    54.90039    59.79248  ]\n",
      "   [ 52.043945   55.06006    50.061523 ]]]\n",
      "\n",
      "\n",
      " [[[ 29.95337    28.95337    32.95337  ]\n",
      "   [ 28.907715   27.953857   31.953857 ]\n",
      "   [ 28.858154   27.890625   32.59375  ]\n",
      "   ...\n",
      "   [ 33.078125   30.1875     34.264404 ]\n",
      "   [ 33.78125    30.890625   34.890625 ]\n",
      "   [ 33.96924    30.219238   34.313232 ]]\n",
      "\n",
      "  [[ 30.154785   28.872803   32.872803 ]\n",
      "   [ 28.017822   27.439697   31.439697 ]\n",
      "   [ 27.144287   26.671875   31.144287 ]\n",
      "   ...\n",
      "   [ 30.507324   28.738037   33.441162 ]\n",
      "   [ 31.671875   29.671875   33.671875 ]\n",
      "   [ 32.544678   29.967285   34.82666  ]]\n",
      "\n",
      "  [[ 27.43628    26.046875   30.046875 ]\n",
      "   [ 26.871338   26.293213   30.293213 ]\n",
      "   [ 25.837646   25.453125   29.453125 ]\n",
      "   ...\n",
      "   [ 28.728271   27.431396   32.296875 ]\n",
      "   [ 30.136963   28.136963   32.683838 ]\n",
      "   [ 29.516846   27.516846   32.453125 ]]\n",
      "\n",
      "  ...\n",
      "\n",
      "  [[ 14.140625   16.06372    21.6875   ]\n",
      "   [ 14.808838   16.261963   22.546875 ]\n",
      "   [ 14.1623535  15.296875   22.162354 ]\n",
      "   ...\n",
      "   [ 14.730957   14.8654785  21.25     ]\n",
      "   [ 13.777588   14.230713   20.230713 ]\n",
      "   [ 13.076904   14.         20.       ]]\n",
      "\n",
      "  [[ 14.623535   16.623535   21.529053 ]\n",
      "   [ 14.189697   16.189697   21.223145 ]\n",
      "   [ 14.         15.296875   22.472412 ]\n",
      "   ...\n",
      "   [ 14.133301   14.430176   20.430176 ]\n",
      "   [ 13.283447   14.283447   20.671875 ]\n",
      "   [ 13.         14.         20.094482 ]]\n",
      "\n",
      "  [[ 14.093994   16.093994   21.969238 ]\n",
      "   [ 14.         16.         22.249268 ]\n",
      "   [ 14.         15.923096   23.59375  ]\n",
      "   ...\n",
      "   [ 12.483154   13.40625    19.40625  ]\n",
      "   [ 13.561035   14.561035   20.624268 ]\n",
      "   [ 13.125244   14.125244   20.140625 ]]]], shape=(32, 32, 32, 3), dtype=float32)\n",
      "tf.Tensor(\n",
      "[[0. 0. 0. ... 0. 0. 0.]\n",
      " [0. 0. 0. ... 0. 0. 0.]\n",
      " [0. 0. 0. ... 0. 0. 0.]\n",
      " ...\n",
      " [0. 0. 0. ... 0. 0. 0.]\n",
      " [0. 0. 0. ... 1. 0. 0.]\n",
      " [0. 0. 1. ... 0. 0. 0.]], shape=(32, 43), dtype=float32)\n"
     ]
    }
   ],
   "source": [
    "for x, y in train_ds.take(1):\n",
    "    print(x)\n",
    "    print(y)\n",
    "    break"
   ]
  },
  {
   "attachments": {},
   "cell_type": "markdown",
   "metadata": {},
   "source": [
    "Normalization"
   ]
  },
  {
   "cell_type": "code",
   "execution_count": 10,
   "metadata": {},
   "outputs": [],
   "source": [
    "normalization_layer = keras.Sequential(\n",
    "    [\n",
    "        layers.Rescaling(1. / 255)\n",
    "    ]\n",
    ")"
   ]
  },
  {
   "attachments": {},
   "cell_type": "markdown",
   "metadata": {},
   "source": [
    "labels are already one-hot encoded, now we have to normalize the images, that will be done in side the model (1st Sequential layer)"
   ]
  },
  {
   "attachments": {},
   "cell_type": "markdown",
   "metadata": {},
   "source": [
    "Augmentation"
   ]
  },
  {
   "cell_type": "code",
   "execution_count": 11,
   "metadata": {},
   "outputs": [],
   "source": [
    "data_augmentation = keras.Sequential(\n",
    "    [\n",
    "        layers.RandomRotation(0.3),\n",
    "        layers.RandomZoom(0.2),\n",
    "        layers.RandomFlip(\"horizontal_and_vertical\"),\n",
    "    ]\n",
    ")"
   ]
  },
  {
   "cell_type": "code",
   "execution_count": 12,
   "metadata": {},
   "outputs": [],
   "source": [
    "AUTOTUNE = tf.data.AUTOTUNE\n",
    "\n",
    "\n",
    "def prepare(ds, shuffle=False, augment=False):\n",
    "    # Resize and rescale all datasets.\n",
    "    ds = ds.map(lambda x, y: (normalization_layer(x), y),\n",
    "                num_parallel_calls=AUTOTUNE)\n",
    "\n",
    "    if shuffle:\n",
    "        ds = ds.shuffle(1000)\n",
    "\n",
    "    # Use data augmentation only on the training set.\n",
    "    if augment:\n",
    "        ds = ds.map(lambda x, y: (data_augmentation(x, training=True), y),\n",
    "                    num_parallel_calls=AUTOTUNE)\n",
    "\n",
    "    # Use buffered prefetching on all datasets.\n",
    "    return ds.prefetch(buffer_size=AUTOTUNE)"
   ]
  },
  {
   "cell_type": "code",
   "execution_count": 13,
   "metadata": {},
   "outputs": [
    {
     "name": "stdout",
     "output_type": "stream",
     "text": [
      "WARNING:tensorflow:From /home/viv/miniconda3/envs/German_Traffic_Sign_Recognition/lib/python3.10/site-packages/tensorflow/python/autograph/pyct/static_analysis/liveness.py:83: Analyzer.lamba_check (from tensorflow.python.autograph.pyct.static_analysis.liveness) is deprecated and will be removed after 2023-09-23.\n",
      "Instructions for updating:\n",
      "Lambda fuctions will be no more assumed to be used in the statement where they are used, or at least in the same block. https://github.com/tensorflow/tensorflow/issues/56089\n",
      "WARNING:tensorflow:Using a while_loop for converting RngReadAndSkip cause there is no registered converter for this op.\n",
      "WARNING:tensorflow:Using a while_loop for converting Bitcast cause there is no registered converter for this op.\n",
      "WARNING:tensorflow:Using a while_loop for converting Bitcast cause there is no registered converter for this op.\n",
      "WARNING:tensorflow:Using a while_loop for converting StatelessRandomUniformV2 cause there is no registered converter for this op.\n",
      "WARNING:tensorflow:Using a while_loop for converting ImageProjectiveTransformV3 cause there is no registered converter for this op.\n",
      "WARNING:tensorflow:Using a while_loop for converting RngReadAndSkip cause there is no registered converter for this op.\n",
      "WARNING:tensorflow:Using a while_loop for converting Bitcast cause there is no registered converter for this op.\n",
      "WARNING:tensorflow:Using a while_loop for converting Bitcast cause there is no registered converter for this op.\n",
      "WARNING:tensorflow:Using a while_loop for converting StatelessRandomUniformV2 cause there is no registered converter for this op.\n",
      "WARNING:tensorflow:Using a while_loop for converting ImageProjectiveTransformV3 cause there is no registered converter for this op.\n",
      "WARNING:tensorflow:Using a while_loop for converting RngReadAndSkip cause there is no registered converter for this op.\n",
      "WARNING:tensorflow:Using a while_loop for converting Bitcast cause there is no registered converter for this op.\n",
      "WARNING:tensorflow:Using a while_loop for converting Bitcast cause there is no registered converter for this op.\n",
      "WARNING:tensorflow:Using a while_loop for converting StatelessRandomUniformV2 cause there is no registered converter for this op.\n",
      "WARNING:tensorflow:Using a while_loop for converting ImageProjectiveTransformV3 cause there is no registered converter for this op.\n",
      "WARNING:tensorflow:Using a while_loop for converting RngReadAndSkip cause there is no registered converter for this op.\n",
      "WARNING:tensorflow:Using a while_loop for converting Bitcast cause there is no registered converter for this op.\n",
      "WARNING:tensorflow:Using a while_loop for converting Bitcast cause there is no registered converter for this op.\n",
      "WARNING:tensorflow:Using a while_loop for converting StatelessRandomUniformV2 cause there is no registered converter for this op.\n",
      "WARNING:tensorflow:Using a while_loop for converting ImageProjectiveTransformV3 cause there is no registered converter for this op.\n"
     ]
    }
   ],
   "source": [
    "train_aug_ds = prepare(train_ds, shuffle=True, augment=True)\n",
    "val_ds = prepare(val_ds)"
   ]
  },
  {
   "attachments": {},
   "cell_type": "markdown",
   "metadata": {},
   "source": [
    "## Prepare CNN Model"
   ]
  },
  {
   "attachments": {},
   "cell_type": "markdown",
   "metadata": {},
   "source": [
    "Setting up the callbacks"
   ]
  },
  {
   "cell_type": "code",
   "execution_count": 14,
   "metadata": {},
   "outputs": [],
   "source": [
    "early_stopping_cb = keras.callbacks.EarlyStopping(patience=20,\n",
    "                                                     restore_best_weights=True)\n",
    "                                                     \n",
    "SAVED_MODEL_PATH = 'model/ge_traffic_sign_recognition.h5'\n",
    "model_checkpoint_cb = keras.callbacks.ModelCheckpoint(SAVED_MODEL_PATH, \n",
    "                                                      monitor=\"val_loss\", \n",
    "                                                      mode=\"min\",\n",
    "                                                      save_best_only=True, \n",
    "                                                      verbose=1)\n",
    "\n",
    "\n",
    "callbacks = [early_stopping_cb, model_checkpoint_cb]"
   ]
  },
  {
   "cell_type": "code",
   "execution_count": 15,
   "metadata": {},
   "outputs": [],
   "source": [
    "model = MiniVGGNet.build(width=IMG_WIDTH, height=IMG_HEIGHT, depth= 3, classes=len(classes))"
   ]
  },
  {
   "cell_type": "code",
   "execution_count": 16,
   "metadata": {},
   "outputs": [
    {
     "name": "stdout",
     "output_type": "stream",
     "text": [
      "Model: \"sequential_2\"\n",
      "_________________________________________________________________\n",
      " Layer (type)                Output Shape              Param #   \n",
      "=================================================================\n",
      " conv2d (Conv2D)             (None, 32, 32, 32)        896       \n",
      "                                                                 \n",
      " batch_normalization (BatchN  (None, 32, 32, 32)       128       \n",
      " ormalization)                                                   \n",
      "                                                                 \n",
      " conv2d_1 (Conv2D)           (None, 32, 32, 32)        9248      \n",
      "                                                                 \n",
      " batch_normalization_1 (Batc  (None, 32, 32, 32)       128       \n",
      " hNormalization)                                                 \n",
      "                                                                 \n",
      " max_pooling2d (MaxPooling2D  (None, 16, 16, 32)       0         \n",
      " )                                                               \n",
      "                                                                 \n",
      " dropout (Dropout)           (None, 16, 16, 32)        0         \n",
      "                                                                 \n",
      " conv2d_2 (Conv2D)           (None, 16, 16, 64)        18496     \n",
      "                                                                 \n",
      " batch_normalization_2 (Batc  (None, 16, 16, 64)       256       \n",
      " hNormalization)                                                 \n",
      "                                                                 \n",
      " conv2d_3 (Conv2D)           (None, 16, 16, 64)        36928     \n",
      "                                                                 \n",
      " batch_normalization_3 (Batc  (None, 16, 16, 64)       256       \n",
      " hNormalization)                                                 \n",
      "                                                                 \n",
      " max_pooling2d_1 (MaxPooling  (None, 8, 8, 64)         0         \n",
      " 2D)                                                             \n",
      "                                                                 \n",
      " dropout_1 (Dropout)         (None, 8, 8, 64)          0         \n",
      "                                                                 \n",
      " flatten (Flatten)           (None, 4096)              0         \n",
      "                                                                 \n",
      " dense (Dense)               (None, 512)               2097664   \n",
      "                                                                 \n",
      " batch_normalization_4 (Batc  (None, 512)              2048      \n",
      " hNormalization)                                                 \n",
      "                                                                 \n",
      " dropout_2 (Dropout)         (None, 512)               0         \n",
      "                                                                 \n",
      " dense_1 (Dense)             (None, 43)                22059     \n",
      "                                                                 \n",
      "=================================================================\n",
      "Total params: 2,188,107\n",
      "Trainable params: 2,186,699\n",
      "Non-trainable params: 1,408\n",
      "_________________________________________________________________\n"
     ]
    }
   ],
   "source": [
    "EPOCHS = 50\n",
    "lr = 1e-2\n",
    "# optimizer = tf.keras.optimizers.SGD(learning_rate=lr , weight_decay=lr /EPOCHS, momentum=0.9, nesterov=True)\n",
    "optimizer = tf.keras.optimizers.Adam(learning_rate=lr , weight_decay=lr /EPOCHS)\n",
    "model.compile(optimizer=optimizer, loss='categorical_crossentropy', metrics=['accuracy'])\n",
    "model.summary()"
   ]
  },
  {
   "attachments": {},
   "cell_type": "markdown",
   "metadata": {},
   "source": [
    "Configure the dataset for performance"
   ]
  },
  {
   "cell_type": "code",
   "execution_count": 17,
   "metadata": {},
   "outputs": [],
   "source": [
    "train_ds = train_aug_ds.cache().prefetch(buffer_size=AUTOTUNE)\n",
    "val_ds = val_ds.cache().prefetch(buffer_size=AUTOTUNE)"
   ]
  },
  {
   "attachments": {},
   "cell_type": "markdown",
   "metadata": {},
   "source": [
    "## Train the Model"
   ]
  },
  {
   "cell_type": "code",
   "execution_count": 18,
   "metadata": {},
   "outputs": [],
   "source": [
    "# tf.keras.backend.clear_session()\n",
    "tf.random.set_seed(RANDOM_STATE)"
   ]
  },
  {
   "cell_type": "code",
   "execution_count": 19,
   "metadata": {},
   "outputs": [
    {
     "name": "stdout",
     "output_type": "stream",
     "text": [
      "Epoch 1/50\n"
     ]
    },
    {
     "name": "stderr",
     "output_type": "stream",
     "text": [
      "2023-02-19 10:30:46.400410: E tensorflow/core/grappler/optimizers/meta_optimizer.cc:954] layout failed: INVALID_ARGUMENT: Size of values 0 does not match size of permutation 4 @ fanin shape insequential_2/dropout/dropout/SelectV2-2-TransposeNHWCToNCHW-LayoutOptimizer\n"
     ]
    },
    {
     "name": "stdout",
     "output_type": "stream",
     "text": [
      "981/981 [==============================] - ETA: 0s - loss: 2.3680 - accuracy: 0.3502\n",
      "Epoch 1: val_loss improved from inf to 1.69615, saving model to model/ge_traffic_sign_recognition.h5\n",
      "981/981 [==============================] - 9s 6ms/step - loss: 2.3680 - accuracy: 0.3502 - val_loss: 1.6962 - val_accuracy: 0.4473\n",
      "Epoch 2/50\n",
      "973/981 [============================>.] - ETA: 0s - loss: 1.2211 - accuracy: 0.6060\n",
      "Epoch 2: val_loss improved from 1.69615 to 0.60909, saving model to model/ge_traffic_sign_recognition.h5\n",
      "981/981 [==============================] - 6s 6ms/step - loss: 1.2186 - accuracy: 0.6067 - val_loss: 0.6091 - val_accuracy: 0.7916\n",
      "Epoch 3/50\n",
      "976/981 [============================>.] - ETA: 0s - loss: 0.7817 - accuracy: 0.7463\n",
      "Epoch 3: val_loss improved from 0.60909 to 0.33819, saving model to model/ge_traffic_sign_recognition.h5\n",
      "981/981 [==============================] - 6s 6ms/step - loss: 0.7811 - accuracy: 0.7465 - val_loss: 0.3382 - val_accuracy: 0.8925\n",
      "Epoch 4/50\n",
      "981/981 [==============================] - ETA: 0s - loss: 0.7336 - accuracy: 0.7683\n",
      "Epoch 4: val_loss improved from 0.33819 to 0.25405, saving model to model/ge_traffic_sign_recognition.h5\n",
      "981/981 [==============================] - 6s 6ms/step - loss: 0.7336 - accuracy: 0.7683 - val_loss: 0.2541 - val_accuracy: 0.9146\n",
      "Epoch 5/50\n",
      "977/981 [============================>.] - ETA: 0s - loss: 0.5067 - accuracy: 0.8388\n",
      "Epoch 5: val_loss improved from 0.25405 to 0.15887, saving model to model/ge_traffic_sign_recognition.h5\n",
      "981/981 [==============================] - 6s 7ms/step - loss: 0.5072 - accuracy: 0.8386 - val_loss: 0.1589 - val_accuracy: 0.9489\n",
      "Epoch 6/50\n",
      "980/981 [============================>.] - ETA: 0s - loss: 0.4621 - accuracy: 0.8585\n",
      "Epoch 6: val_loss did not improve from 0.15887\n",
      "981/981 [==============================] - 6s 7ms/step - loss: 0.4617 - accuracy: 0.8586 - val_loss: 0.6461 - val_accuracy: 0.8039\n",
      "Epoch 7/50\n",
      "981/981 [==============================] - ETA: 0s - loss: 0.4398 - accuracy: 0.8663\n",
      "Epoch 7: val_loss did not improve from 0.15887\n",
      "981/981 [==============================] - 6s 6ms/step - loss: 0.4398 - accuracy: 0.8663 - val_loss: 0.1612 - val_accuracy: 0.9505\n",
      "Epoch 8/50\n",
      "979/981 [============================>.] - ETA: 0s - loss: 0.3925 - accuracy: 0.8843\n",
      "Epoch 8: val_loss improved from 0.15887 to 0.13703, saving model to model/ge_traffic_sign_recognition.h5\n",
      "981/981 [==============================] - 6s 7ms/step - loss: 0.3922 - accuracy: 0.8843 - val_loss: 0.1370 - val_accuracy: 0.9612\n",
      "Epoch 9/50\n",
      "977/981 [============================>.] - ETA: 0s - loss: 0.3659 - accuracy: 0.8936\n",
      "Epoch 9: val_loss improved from 0.13703 to 0.11949, saving model to model/ge_traffic_sign_recognition.h5\n",
      "981/981 [==============================] - 6s 6ms/step - loss: 0.3655 - accuracy: 0.8936 - val_loss: 0.1195 - val_accuracy: 0.9662\n",
      "Epoch 10/50\n",
      "974/981 [============================>.] - ETA: 0s - loss: 0.3454 - accuracy: 0.9027\n",
      "Epoch 10: val_loss did not improve from 0.11949\n",
      "981/981 [==============================] - 6s 6ms/step - loss: 0.3456 - accuracy: 0.9027 - val_loss: 0.1284 - val_accuracy: 0.9631\n",
      "Epoch 11/50\n",
      "977/981 [============================>.] - ETA: 0s - loss: 0.3343 - accuracy: 0.9093\n",
      "Epoch 11: val_loss did not improve from 0.11949\n",
      "981/981 [==============================] - 6s 6ms/step - loss: 0.3343 - accuracy: 0.9093 - val_loss: 0.1879 - val_accuracy: 0.9448\n",
      "Epoch 12/50\n",
      "977/981 [============================>.] - ETA: 0s - loss: 0.3431 - accuracy: 0.9093\n",
      "Epoch 12: val_loss did not improve from 0.11949\n",
      "981/981 [==============================] - 6s 6ms/step - loss: 0.3432 - accuracy: 0.9093 - val_loss: 0.1359 - val_accuracy: 0.9626\n",
      "Epoch 13/50\n",
      "974/981 [============================>.] - ETA: 0s - loss: 0.3091 - accuracy: 0.9196\n",
      "Epoch 13: val_loss did not improve from 0.11949\n",
      "981/981 [==============================] - 6s 6ms/step - loss: 0.3087 - accuracy: 0.9196 - val_loss: 0.2050 - val_accuracy: 0.9547\n",
      "Epoch 14/50\n",
      "979/981 [============================>.] - ETA: 0s - loss: 0.3059 - accuracy: 0.9243\n",
      "Epoch 14: val_loss did not improve from 0.11949\n",
      "981/981 [==============================] - 6s 6ms/step - loss: 0.3061 - accuracy: 0.9243 - val_loss: 0.1919 - val_accuracy: 0.9489\n",
      "Epoch 15/50\n",
      "977/981 [============================>.] - ETA: 0s - loss: 0.2984 - accuracy: 0.9262\n",
      "Epoch 15: val_loss did not improve from 0.11949\n",
      "981/981 [==============================] - 6s 6ms/step - loss: 0.2990 - accuracy: 0.9262 - val_loss: 0.1354 - val_accuracy: 0.9665\n",
      "Epoch 16/50\n",
      "981/981 [==============================] - ETA: 0s - loss: 0.2942 - accuracy: 0.9289\n",
      "Epoch 16: val_loss did not improve from 0.11949\n",
      "981/981 [==============================] - 5s 5ms/step - loss: 0.2942 - accuracy: 0.9289 - val_loss: 0.1477 - val_accuracy: 0.9659\n",
      "Epoch 17/50\n",
      "973/981 [============================>.] - ETA: 0s - loss: 0.2801 - accuracy: 0.9355\n",
      "Epoch 17: val_loss did not improve from 0.11949\n",
      "981/981 [==============================] - 5s 5ms/step - loss: 0.2793 - accuracy: 0.9357 - val_loss: 0.1278 - val_accuracy: 0.9718\n",
      "Epoch 18/50\n",
      "981/981 [==============================] - ETA: 0s - loss: 0.3043 - accuracy: 0.9318\n",
      "Epoch 18: val_loss did not improve from 0.11949\n",
      "981/981 [==============================] - 6s 6ms/step - loss: 0.3043 - accuracy: 0.9318 - val_loss: 0.1455 - val_accuracy: 0.9708\n",
      "Epoch 19/50\n",
      "973/981 [============================>.] - ETA: 0s - loss: 0.2747 - accuracy: 0.9400\n",
      "Epoch 19: val_loss did not improve from 0.11949\n",
      "981/981 [==============================] - 5s 6ms/step - loss: 0.2755 - accuracy: 0.9398 - val_loss: 0.1636 - val_accuracy: 0.9667\n",
      "Epoch 20/50\n",
      "973/981 [============================>.] - ETA: 0s - loss: 0.3690 - accuracy: 0.9257\n",
      "Epoch 20: val_loss did not improve from 0.11949\n",
      "981/981 [==============================] - 5s 6ms/step - loss: 0.3678 - accuracy: 0.9258 - val_loss: 0.1569 - val_accuracy: 0.9658\n",
      "Epoch 21/50\n",
      "971/981 [============================>.] - ETA: 0s - loss: 0.2514 - accuracy: 0.9430\n",
      "Epoch 21: val_loss improved from 0.11949 to 0.11914, saving model to model/ge_traffic_sign_recognition.h5\n",
      "981/981 [==============================] - 6s 6ms/step - loss: 0.2515 - accuracy: 0.9430 - val_loss: 0.1191 - val_accuracy: 0.9749\n",
      "Epoch 22/50\n",
      "975/981 [============================>.] - ETA: 0s - loss: 0.2334 - accuracy: 0.9493\n",
      "Epoch 22: val_loss did not improve from 0.11914\n",
      "981/981 [==============================] - 5s 5ms/step - loss: 0.2341 - accuracy: 0.9492 - val_loss: 0.1329 - val_accuracy: 0.9733\n",
      "Epoch 23/50\n",
      "976/981 [============================>.] - ETA: 0s - loss: 0.2692 - accuracy: 0.9469\n",
      "Epoch 23: val_loss did not improve from 0.11914\n",
      "981/981 [==============================] - 5s 5ms/step - loss: 0.2707 - accuracy: 0.9468 - val_loss: 0.1622 - val_accuracy: 0.9758\n",
      "Epoch 24/50\n",
      "972/981 [============================>.] - ETA: 0s - loss: 0.2691 - accuracy: 0.9486\n",
      "Epoch 24: val_loss did not improve from 0.11914\n",
      "981/981 [==============================] - 5s 5ms/step - loss: 0.2689 - accuracy: 0.9485 - val_loss: 0.1515 - val_accuracy: 0.9763\n",
      "Epoch 25/50\n",
      "978/981 [============================>.] - ETA: 0s - loss: 0.2848 - accuracy: 0.9472\n",
      "Epoch 25: val_loss did not improve from 0.11914\n",
      "981/981 [==============================] - 6s 6ms/step - loss: 0.2845 - accuracy: 0.9472 - val_loss: 0.2030 - val_accuracy: 0.9699\n",
      "Epoch 26/50\n",
      "981/981 [==============================] - ETA: 0s - loss: 0.2525 - accuracy: 0.9542\n",
      "Epoch 26: val_loss did not improve from 0.11914\n",
      "981/981 [==============================] - 6s 6ms/step - loss: 0.2525 - accuracy: 0.9542 - val_loss: 0.1711 - val_accuracy: 0.9727\n",
      "Epoch 27/50\n",
      "977/981 [============================>.] - ETA: 0s - loss: 0.2734 - accuracy: 0.9525\n",
      "Epoch 27: val_loss did not improve from 0.11914\n",
      "981/981 [==============================] - 5s 6ms/step - loss: 0.2732 - accuracy: 0.9525 - val_loss: 0.1406 - val_accuracy: 0.9776\n",
      "Epoch 28/50\n",
      "971/981 [============================>.] - ETA: 0s - loss: 0.2673 - accuracy: 0.9538\n",
      "Epoch 28: val_loss did not improve from 0.11914\n",
      "981/981 [==============================] - 5s 5ms/step - loss: 0.2665 - accuracy: 0.9538 - val_loss: 0.1594 - val_accuracy: 0.9776\n",
      "Epoch 29/50\n",
      "980/981 [============================>.] - ETA: 0s - loss: 0.2601 - accuracy: 0.9566\n",
      "Epoch 29: val_loss did not improve from 0.11914\n",
      "981/981 [==============================] - 6s 6ms/step - loss: 0.2603 - accuracy: 0.9565 - val_loss: 0.2747 - val_accuracy: 0.9596\n",
      "Epoch 30/50\n",
      "972/981 [============================>.] - ETA: 0s - loss: 0.2651 - accuracy: 0.9560\n",
      "Epoch 30: val_loss did not improve from 0.11914\n",
      "981/981 [==============================] - 6s 6ms/step - loss: 0.2647 - accuracy: 0.9562 - val_loss: 0.1307 - val_accuracy: 0.9824\n",
      "Epoch 31/50\n",
      "978/981 [============================>.] - ETA: 0s - loss: 0.2656 - accuracy: 0.9586\n",
      "Epoch 31: val_loss did not improve from 0.11914\n",
      "981/981 [==============================] - 6s 6ms/step - loss: 0.2657 - accuracy: 0.9587 - val_loss: 0.2087 - val_accuracy: 0.9746\n",
      "Epoch 32/50\n",
      "974/981 [============================>.] - ETA: 0s - loss: 0.2618 - accuracy: 0.9585\n",
      "Epoch 32: val_loss did not improve from 0.11914\n",
      "981/981 [==============================] - 6s 6ms/step - loss: 0.2616 - accuracy: 0.9586 - val_loss: 0.2258 - val_accuracy: 0.9713\n",
      "Epoch 33/50\n",
      "978/981 [============================>.] - ETA: 0s - loss: 0.2910 - accuracy: 0.9575\n",
      "Epoch 33: val_loss did not improve from 0.11914\n",
      "981/981 [==============================] - 5s 5ms/step - loss: 0.2905 - accuracy: 0.9575 - val_loss: 0.1548 - val_accuracy: 0.9777\n",
      "Epoch 34/50\n",
      "980/981 [============================>.] - ETA: 0s - loss: 0.2608 - accuracy: 0.9601\n",
      "Epoch 34: val_loss did not improve from 0.11914\n",
      "981/981 [==============================] - 5s 5ms/step - loss: 0.2613 - accuracy: 0.9601 - val_loss: 0.2003 - val_accuracy: 0.9774\n",
      "Epoch 35/50\n",
      "981/981 [==============================] - ETA: 0s - loss: 0.2646 - accuracy: 0.9598\n",
      "Epoch 35: val_loss did not improve from 0.11914\n",
      "981/981 [==============================] - 6s 6ms/step - loss: 0.2646 - accuracy: 0.9598 - val_loss: 0.1483 - val_accuracy: 0.9824\n",
      "Epoch 36/50\n",
      "976/981 [============================>.] - ETA: 0s - loss: 0.2781 - accuracy: 0.9612\n",
      "Epoch 36: val_loss did not improve from 0.11914\n",
      "981/981 [==============================] - 6s 6ms/step - loss: 0.2768 - accuracy: 0.9613 - val_loss: 0.1425 - val_accuracy: 0.9813\n",
      "Epoch 37/50\n",
      "972/981 [============================>.] - ETA: 0s - loss: 0.2447 - accuracy: 0.9649\n",
      "Epoch 37: val_loss did not improve from 0.11914\n",
      "981/981 [==============================] - 5s 5ms/step - loss: 0.2451 - accuracy: 0.9649 - val_loss: 0.1690 - val_accuracy: 0.9796\n",
      "Epoch 38/50\n",
      "978/981 [============================>.] - ETA: 0s - loss: 0.2875 - accuracy: 0.9608\n",
      "Epoch 38: val_loss did not improve from 0.11914\n",
      "981/981 [==============================] - 5s 5ms/step - loss: 0.2871 - accuracy: 0.9608 - val_loss: 0.2409 - val_accuracy: 0.9716\n",
      "Epoch 39/50\n",
      "969/981 [============================>.] - ETA: 0s - loss: 0.2455 - accuracy: 0.9660\n",
      "Epoch 39: val_loss did not improve from 0.11914\n",
      "981/981 [==============================] - 5s 5ms/step - loss: 0.2461 - accuracy: 0.9659 - val_loss: 0.1819 - val_accuracy: 0.9823\n",
      "Epoch 40/50\n",
      "972/981 [============================>.] - ETA: 0s - loss: 0.2606 - accuracy: 0.9661\n",
      "Epoch 40: val_loss did not improve from 0.11914\n",
      "981/981 [==============================] - 6s 6ms/step - loss: 0.2619 - accuracy: 0.9660 - val_loss: 0.1479 - val_accuracy: 0.9821\n",
      "Epoch 41/50\n",
      "972/981 [============================>.] - ETA: 0s - loss: 0.2991 - accuracy: 0.9629\n",
      "Epoch 41: val_loss did not improve from 0.11914\n",
      "981/981 [==============================] - 6s 6ms/step - loss: 0.2973 - accuracy: 0.9631 - val_loss: 0.2038 - val_accuracy: 0.9805\n"
     ]
    }
   ],
   "source": [
    "history = model.fit(train_ds,\n",
    "                        validation_data=val_ds,\n",
    "                        batch_size=BATCH_SIZE,\n",
    "                        epochs=EPOCHS,\n",
    "                        callbacks=callbacks)"
   ]
  },
  {
   "attachments": {},
   "cell_type": "markdown",
   "metadata": {},
   "source": [
    "## Evaluate the Model"
   ]
  },
  {
   "cell_type": "code",
   "execution_count": 20,
   "metadata": {},
   "outputs": [
    {
     "data": {
      "text/plain": [
       "dict_keys(['loss', 'accuracy', 'val_loss', 'val_accuracy'])"
      ]
     },
     "execution_count": 20,
     "metadata": {},
     "output_type": "execute_result"
    }
   ],
   "source": [
    "history.history.keys()"
   ]
  },
  {
   "cell_type": "code",
   "execution_count": 27,
   "metadata": {},
   "outputs": [
    {
     "data": {
      "text/plain": [
       "<matplotlib.legend.Legend at 0x7fe8401d39a0>"
      ]
     },
     "execution_count": 27,
     "metadata": {},
     "output_type": "execute_result"
    },
    {
     "data": {
      "image/png": "[encoded data removed]",
      "text/plain": [
       "<Figure size 640x480 with 1 Axes>"
      ]
     },
     "metadata": {},
     "output_type": "display_data"
    }
   ],
   "source": [
    "plt.figure()\n",
    "plt.plot(history.history[\"loss\"], label=\"train_loss\")\n",
    "plt.plot(history.history[\"val_loss\"], label=\"val_loss\")\n",
    "plt.plot(history.history[\"accuracy\"], label=\"train_acc\")\n",
    "plt.plot(history.history[\"val_accuracy\"], label=\"val_acc\")\n",
    "plt.title(\"Training Loss and Accuracy per Epoch\")\n",
    "plt.grid()\n",
    "plt.xlabel(\"Epoch #\")\n",
    "plt.ylabel(\"Loss/Accuracy\")\n",
    "plt.legend()"
   ]
  },
  {
   "cell_type": "code",
   "execution_count": 22,
   "metadata": {},
   "outputs": [
    {
     "name": "stdout",
     "output_type": "stream",
     "text": [
      "246/246 [==============================] - 0s 2ms/step - loss: 0.1191 - accuracy: 0.9749\n"
     ]
    },
    {
     "data": {
      "text/plain": [
       "(0.11913761496543884, 0.9748756289482117)"
      ]
     },
     "execution_count": 22,
     "metadata": {},
     "output_type": "execute_result"
    }
   ],
   "source": [
    "loss, accuracy = model.evaluate(val_ds)\n",
    "loss, accuracy"
   ]
  },
  {
   "cell_type": "code",
   "execution_count": 23,
   "metadata": {},
   "outputs": [
    {
     "name": "stdout",
     "output_type": "stream",
     "text": [
      "246/246 [==============================] - 0s 1ms/step\n",
      "12\n",
      "10\n",
      "25\n"
     ]
    }
   ],
   "source": [
    "predicted = model.predict(val_ds)\n",
    "for pred in predicted[:3]:\n",
    "    print(np.argmax(pred, axis=-1))"
   ]
  },
  {
   "cell_type": "code",
   "execution_count": 24,
   "metadata": {},
   "outputs": [],
   "source": [
    "def get_actual_predicted_labels(dataset): \n",
    "  \"\"\"\n",
    "    Create a list of actual ground truth values and the predictions from the model.\n",
    "\n",
    "    Args:\n",
    "      dataset: An iterable data structure, such as a TensorFlow Dataset, with features and labels.\n",
    "\n",
    "    Return:\n",
    "      Ground truth and predicted values for a particular dataset.\n",
    "  \"\"\"\n",
    "  actual = [labels for _, labels in dataset.unbatch()]\n",
    "  predicted = model.predict(dataset)\n",
    "\n",
    "  actual = tf.stack(actual, axis=0)\n",
    "  actual =np.argmax(actual, axis=1) # because one hot encoded \n",
    "  predicted = tf.concat(predicted, axis=0)\n",
    "  predicted = tf.argmax(predicted, axis=1)\n",
    "\n",
    "  return actual, predicted"
   ]
  },
  {
   "cell_type": "code",
   "execution_count": 25,
   "metadata": {},
   "outputs": [
    {
     "name": "stdout",
     "output_type": "stream",
     "text": [
      "246/246 [==============================] - 0s 1ms/step\n"
     ]
    },
    {
     "data": {
      "text/plain": [
       "(array([12, 10, 25, 18,  4, 33, 14, 22, 35,  1]),\n",
       " array([12, 10, 25, 18,  4, 33, 14, 22, 35,  1]))"
      ]
     },
     "execution_count": 25,
     "metadata": {},
     "output_type": "execute_result"
    }
   ],
   "source": [
    "actual, predicted = get_actual_predicted_labels(val_ds)\n",
    "actual[:10], predicted[:10].numpy()"
   ]
  },
  {
   "cell_type": "code",
   "execution_count": 26,
   "metadata": {},
   "outputs": [
    {
     "name": "stdout",
     "output_type": "stream",
     "text": [
      "              precision    recall  f1-score   support\n",
      "\n",
      "           0       0.94      0.94      0.94        48\n",
      "           1       0.98      0.96      0.97       468\n",
      "          10       1.00      1.00      1.00       418\n",
      "          11       0.96      0.99      0.97       275\n",
      "          12       1.00      1.00      1.00       425\n",
      "          13       1.00      0.99      0.99       449\n",
      "          14       1.00      0.99      1.00       156\n",
      "          15       0.98      0.98      0.98       127\n",
      "          16       0.95      0.99      0.97        78\n",
      "          17       1.00      1.00      1.00       225\n",
      "          18       0.99      0.98      0.98       234\n",
      "          19       1.00      0.91      0.95        54\n",
      "           2       0.93      0.99      0.96       442\n",
      "          20       0.94      1.00      0.97        84\n",
      "          21       0.71      1.00      0.83        63\n",
      "          22       1.00      1.00      1.00        90\n",
      "          23       1.00      0.83      0.91       100\n",
      "          24       0.90      1.00      0.95        53\n",
      "          25       0.99      0.99      0.99       309\n",
      "          26       0.98      0.98      0.98       122\n",
      "          27       0.94      1.00      0.97        44\n",
      "          28       0.89      0.98      0.93       102\n",
      "          29       0.96      0.94      0.95        54\n",
      "           3       0.95      0.95      0.95       277\n",
      "          30       1.00      0.86      0.92        77\n",
      "          31       0.99      0.92      0.95       143\n",
      "          32       1.00      0.95      0.97        41\n",
      "          33       0.97      0.99      0.98       135\n",
      "          34       0.95      0.99      0.97        76\n",
      "          35       1.00      0.98      0.99       228\n",
      "          36       0.99      0.99      0.99        83\n",
      "          37       1.00      1.00      1.00        35\n",
      "          38       0.98      1.00      0.99       432\n",
      "          39       1.00      0.91      0.95        68\n",
      "           4       0.96      0.99      0.98       419\n",
      "          40       1.00      1.00      1.00        65\n",
      "          41       1.00      1.00      1.00        53\n",
      "          42       0.95      1.00      0.98        41\n",
      "           5       0.98      0.93      0.96       340\n",
      "           6       1.00      0.96      0.98        77\n",
      "           7       0.97      0.97      0.97       261\n",
      "           8       1.00      0.95      0.97       287\n",
      "           9       0.99      0.96      0.98       283\n",
      "\n",
      "    accuracy                           0.97      7841\n",
      "   macro avg       0.97      0.97      0.97      7841\n",
      "weighted avg       0.98      0.97      0.98      7841\n",
      "\n"
     ]
    }
   ],
   "source": [
    "print(classification_report(actual, predicted,\n",
    "                            target_names=classes))"
   ]
  },
  {
   "cell_type": "code",
   "execution_count": null,
   "metadata": {},
   "outputs": [],
   "source": []
  }
 ],
 "metadata": {
  "kernelspec": {
   "display_name": "German_Traffic_Sign_Recognition",
   "language": "python",
   "name": "python3"
  },
  "language_info": {
   "codemirror_mode": {
    "name": "ipython",
    "version": 3
   },
   "file_extension": ".py",
   "mimetype": "text/x-python",
   "name": "python",
   "nbconvert_exporter": "python",
   "pygments_lexer": "ipython3",
   "version": "3.10.9"
  },
  "orig_nbformat": 4,
  "vscode": {
   "interpreter": {
    "hash": "d537c92fe30561e09db272b7a25ae30e6e2bc97a97b3734491f304a50020ffea"
   }
  }
 },
 "nbformat": 4,
 "nbformat_minor": 2
}
